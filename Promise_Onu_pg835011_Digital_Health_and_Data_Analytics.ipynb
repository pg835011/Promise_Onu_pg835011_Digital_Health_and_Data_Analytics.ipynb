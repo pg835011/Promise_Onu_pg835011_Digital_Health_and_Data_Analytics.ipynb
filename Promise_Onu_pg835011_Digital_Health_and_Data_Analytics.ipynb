{
  "nbformat": 4,
  "nbformat_minor": 0,
  "metadata": {
    "colab": {
      "name": "Promise Onu_pg835011_Digital Health and Data Analytics.ipynb",
      "provenance": [],
      "collapsed_sections": []
    },
    "kernelspec": {
      "name": "python3",
      "display_name": "Python 3"
    },
    "language_info": {
      "name": "python"
    }
  },
  "cells": [
    {
      "cell_type": "code",
      "metadata": {
        "id": "e_jpYQ3wxUYo"
      },
      "source": [
        "import pandas as pd\n",
        "import numpy as np"
      ],
      "execution_count": 452,
      "outputs": []
    },
    {
      "cell_type": "code",
      "metadata": {
        "colab": {
          "base_uri": "https://localhost:8080/"
        },
        "id": "8tf2Wf_ukLnu",
        "outputId": "fd95e45c-6d8d-4310-d41a-7ca3f5dca24d"
      },
      "source": [
        "from google.colab import auth\n",
        "auth.authenticate_user()\n",
        "print('Authenticated')"
      ],
      "execution_count": 453,
      "outputs": [
        {
          "output_type": "stream",
          "text": [
            "Authenticated\n"
          ],
          "name": "stdout"
        }
      ]
    },
    {
      "cell_type": "code",
      "metadata": {
        "id": "dl8mBu9lj-zP"
      },
      "source": [
        "%%bigquery --project pg835011 df\n",
        "\n",
        "WITH iemv AS (SELECT * FROM `physionet-data.mimiciii_clinical.inputevents_mv` WHERE PATIENTWEIGHT > 83.6 ORDER BY PATIENTWEIGHT DESC)\n",
        "\n",
        "SELECT iemv.ROW_ID, pts.SUBJECT_ID, pts.GENDER, pts.DOB,iemv.HADM_ID,iemv.PATIENTWEIGHT,adm.DIAGNOSIS,adm.ADMITTIME, adm.DISCHTIME , adm.ADMISSION_LOCATION, \n",
        "adm.DEATHTIME, adm.DISCHARGE_LOCATION, adm.INSURANCE, adm.RELIGION, adm.MARITAL_STATUS,adm.ETHNICITY, adm.EDOUTTIME, \n",
        "\n",
        "FROM iemv \n",
        "INNER JOIN `physionet-data.mimiciii_clinical.patients` AS pts ON iemv.SUBJECT_ID = pts.SUBJECT_ID\n",
        "INNER JOIN `physionet-data.mimiciii_clinical.admissions` AS adm ON iemv.SUBJECT_ID = adm.SUBJECT_ID \n",
        "\n",
        "WHERE adm.DIAGNOSIS = 'CHEST PAIN'\n",
        "OR adm.DIAGNOSIS = 'CARDIAC ARREST'\n",
        "OR adm.DIAGNOSIS = 'MYOCARDIAL INFARCTION'\n",
        "OR adm.DIAGNOSIS = 'STROKE'\n",
        "\n",
        "ORDER BY (PATIENTWEIGHT) DESC"
      ],
      "execution_count": 454,
      "outputs": []
    },
    {
      "cell_type": "code",
      "metadata": {
        "colab": {
          "base_uri": "https://localhost:8080/",
          "height": 383
        },
        "id": "WkD70Supzngv",
        "outputId": "5d7253b7-f6b1-40d1-ec74-9ecccc7294c8"
      },
      "source": [
        "df.head()"
      ],
      "execution_count": 455,
      "outputs": [
        {
          "output_type": "execute_result",
          "data": {
            "text/html": [
              "<div>\n",
              "<style scoped>\n",
              "    .dataframe tbody tr th:only-of-type {\n",
              "        vertical-align: middle;\n",
              "    }\n",
              "\n",
              "    .dataframe tbody tr th {\n",
              "        vertical-align: top;\n",
              "    }\n",
              "\n",
              "    .dataframe thead th {\n",
              "        text-align: right;\n",
              "    }\n",
              "</style>\n",
              "<table border=\"1\" class=\"dataframe\">\n",
              "  <thead>\n",
              "    <tr style=\"text-align: right;\">\n",
              "      <th></th>\n",
              "      <th>ROW_ID</th>\n",
              "      <th>SUBJECT_ID</th>\n",
              "      <th>GENDER</th>\n",
              "      <th>DOB</th>\n",
              "      <th>HADM_ID</th>\n",
              "      <th>PATIENTWEIGHT</th>\n",
              "      <th>DIAGNOSIS</th>\n",
              "      <th>ADMITTIME</th>\n",
              "      <th>DISCHTIME</th>\n",
              "      <th>ADMISSION_LOCATION</th>\n",
              "      <th>DEATHTIME</th>\n",
              "      <th>DISCHARGE_LOCATION</th>\n",
              "      <th>INSURANCE</th>\n",
              "      <th>RELIGION</th>\n",
              "      <th>MARITAL_STATUS</th>\n",
              "      <th>ETHNICITY</th>\n",
              "      <th>EDOUTTIME</th>\n",
              "    </tr>\n",
              "  </thead>\n",
              "  <tbody>\n",
              "    <tr>\n",
              "      <th>0</th>\n",
              "      <td>1997208</td>\n",
              "      <td>74821</td>\n",
              "      <td>M</td>\n",
              "      <td>2108-04-25</td>\n",
              "      <td>146804</td>\n",
              "      <td>1370.0</td>\n",
              "      <td>CHEST PAIN</td>\n",
              "      <td>2141-09-29 15:25:00</td>\n",
              "      <td>2141-10-04 10:30:00</td>\n",
              "      <td>CLINIC REFERRAL/PREMATURE</td>\n",
              "      <td>NaT</td>\n",
              "      <td>REHAB/DISTINCT PART HOSP</td>\n",
              "      <td>Private</td>\n",
              "      <td>CATHOLIC</td>\n",
              "      <td>MARRIED</td>\n",
              "      <td>WHITE</td>\n",
              "      <td>2141-09-29 16:32:00</td>\n",
              "    </tr>\n",
              "    <tr>\n",
              "      <th>1</th>\n",
              "      <td>1997215</td>\n",
              "      <td>74821</td>\n",
              "      <td>M</td>\n",
              "      <td>2108-04-25</td>\n",
              "      <td>146804</td>\n",
              "      <td>1370.0</td>\n",
              "      <td>CHEST PAIN</td>\n",
              "      <td>2141-09-29 15:25:00</td>\n",
              "      <td>2141-10-04 10:30:00</td>\n",
              "      <td>CLINIC REFERRAL/PREMATURE</td>\n",
              "      <td>NaT</td>\n",
              "      <td>REHAB/DISTINCT PART HOSP</td>\n",
              "      <td>Private</td>\n",
              "      <td>CATHOLIC</td>\n",
              "      <td>MARRIED</td>\n",
              "      <td>WHITE</td>\n",
              "      <td>2141-09-29 16:32:00</td>\n",
              "    </tr>\n",
              "    <tr>\n",
              "      <th>2</th>\n",
              "      <td>1997213</td>\n",
              "      <td>74821</td>\n",
              "      <td>M</td>\n",
              "      <td>2108-04-25</td>\n",
              "      <td>146804</td>\n",
              "      <td>1370.0</td>\n",
              "      <td>CHEST PAIN</td>\n",
              "      <td>2141-09-29 15:25:00</td>\n",
              "      <td>2141-10-04 10:30:00</td>\n",
              "      <td>CLINIC REFERRAL/PREMATURE</td>\n",
              "      <td>NaT</td>\n",
              "      <td>REHAB/DISTINCT PART HOSP</td>\n",
              "      <td>Private</td>\n",
              "      <td>CATHOLIC</td>\n",
              "      <td>MARRIED</td>\n",
              "      <td>WHITE</td>\n",
              "      <td>2141-09-29 16:32:00</td>\n",
              "    </tr>\n",
              "    <tr>\n",
              "      <th>3</th>\n",
              "      <td>1997209</td>\n",
              "      <td>74821</td>\n",
              "      <td>M</td>\n",
              "      <td>2108-04-25</td>\n",
              "      <td>146804</td>\n",
              "      <td>1370.0</td>\n",
              "      <td>CHEST PAIN</td>\n",
              "      <td>2141-09-29 15:25:00</td>\n",
              "      <td>2141-10-04 10:30:00</td>\n",
              "      <td>CLINIC REFERRAL/PREMATURE</td>\n",
              "      <td>NaT</td>\n",
              "      <td>REHAB/DISTINCT PART HOSP</td>\n",
              "      <td>Private</td>\n",
              "      <td>CATHOLIC</td>\n",
              "      <td>MARRIED</td>\n",
              "      <td>WHITE</td>\n",
              "      <td>2141-09-29 16:32:00</td>\n",
              "    </tr>\n",
              "    <tr>\n",
              "      <th>4</th>\n",
              "      <td>1997212</td>\n",
              "      <td>74821</td>\n",
              "      <td>M</td>\n",
              "      <td>2108-04-25</td>\n",
              "      <td>146804</td>\n",
              "      <td>1370.0</td>\n",
              "      <td>CHEST PAIN</td>\n",
              "      <td>2141-09-29 15:25:00</td>\n",
              "      <td>2141-10-04 10:30:00</td>\n",
              "      <td>CLINIC REFERRAL/PREMATURE</td>\n",
              "      <td>NaT</td>\n",
              "      <td>REHAB/DISTINCT PART HOSP</td>\n",
              "      <td>Private</td>\n",
              "      <td>CATHOLIC</td>\n",
              "      <td>MARRIED</td>\n",
              "      <td>WHITE</td>\n",
              "      <td>2141-09-29 16:32:00</td>\n",
              "    </tr>\n",
              "  </tbody>\n",
              "</table>\n",
              "</div>"
            ],
            "text/plain": [
              "    ROW_ID  SUBJECT_ID GENDER  ... MARITAL_STATUS  ETHNICITY           EDOUTTIME\n",
              "0  1997208       74821      M  ...        MARRIED      WHITE 2141-09-29 16:32:00\n",
              "1  1997215       74821      M  ...        MARRIED      WHITE 2141-09-29 16:32:00\n",
              "2  1997213       74821      M  ...        MARRIED      WHITE 2141-09-29 16:32:00\n",
              "3  1997209       74821      M  ...        MARRIED      WHITE 2141-09-29 16:32:00\n",
              "4  1997212       74821      M  ...        MARRIED      WHITE 2141-09-29 16:32:00\n",
              "\n",
              "[5 rows x 17 columns]"
            ]
          },
          "metadata": {
            "tags": []
          },
          "execution_count": 455
        }
      ]
    },
    {
      "cell_type": "code",
      "metadata": {
        "colab": {
          "base_uri": "https://localhost:8080/"
        },
        "id": "OaXYkL7QzxZe",
        "outputId": "fcfbb9c3-c9d3-4062-8e85-94420dc3b0ee"
      },
      "source": [
        "df.columns"
      ],
      "execution_count": 456,
      "outputs": [
        {
          "output_type": "execute_result",
          "data": {
            "text/plain": [
              "Index(['ROW_ID', 'SUBJECT_ID', 'GENDER', 'DOB', 'HADM_ID', 'PATIENTWEIGHT',\n",
              "       'DIAGNOSIS', 'ADMITTIME', 'DISCHTIME', 'ADMISSION_LOCATION',\n",
              "       'DEATHTIME', 'DISCHARGE_LOCATION', 'INSURANCE', 'RELIGION',\n",
              "       'MARITAL_STATUS', 'ETHNICITY', 'EDOUTTIME'],\n",
              "      dtype='object')"
            ]
          },
          "metadata": {
            "tags": []
          },
          "execution_count": 456
        }
      ]
    },
    {
      "cell_type": "code",
      "metadata": {
        "colab": {
          "base_uri": "https://localhost:8080/"
        },
        "id": "9YYPB8ZWz7LI",
        "outputId": "6587285e-9d5b-4afe-d7e8-25044f061238"
      },
      "source": [
        "df.info()"
      ],
      "execution_count": 457,
      "outputs": [
        {
          "output_type": "stream",
          "text": [
            "<class 'pandas.core.frame.DataFrame'>\n",
            "RangeIndex: 60578 entries, 0 to 60577\n",
            "Data columns (total 17 columns):\n",
            " #   Column              Non-Null Count  Dtype         \n",
            "---  ------              --------------  -----         \n",
            " 0   ROW_ID              60578 non-null  int64         \n",
            " 1   SUBJECT_ID          60578 non-null  int64         \n",
            " 2   GENDER              60578 non-null  object        \n",
            " 3   DOB                 60578 non-null  datetime64[ns]\n",
            " 4   HADM_ID             60578 non-null  int64         \n",
            " 5   PATIENTWEIGHT       60578 non-null  float64       \n",
            " 6   DIAGNOSIS           60578 non-null  object        \n",
            " 7   ADMITTIME           60578 non-null  datetime64[ns]\n",
            " 8   DISCHTIME           60578 non-null  datetime64[ns]\n",
            " 9   ADMISSION_LOCATION  60578 non-null  object        \n",
            " 10  DEATHTIME           9567 non-null   datetime64[ns]\n",
            " 11  DISCHARGE_LOCATION  60578 non-null  object        \n",
            " 12  INSURANCE           60578 non-null  object        \n",
            " 13  RELIGION            60578 non-null  object        \n",
            " 14  MARITAL_STATUS      58859 non-null  object        \n",
            " 15  ETHNICITY           60578 non-null  object        \n",
            " 16  EDOUTTIME           54384 non-null  datetime64[ns]\n",
            "dtypes: datetime64[ns](5), float64(1), int64(3), object(8)\n",
            "memory usage: 7.9+ MB\n"
          ],
          "name": "stdout"
        }
      ]
    },
    {
      "cell_type": "code",
      "metadata": {
        "colab": {
          "base_uri": "https://localhost:8080/"
        },
        "id": "ju2JooWs0NI4",
        "outputId": "33c4fad3-64ad-429f-c088-6bc1cd2a20bd"
      },
      "source": [
        "df.isna().sum()"
      ],
      "execution_count": 458,
      "outputs": [
        {
          "output_type": "execute_result",
          "data": {
            "text/plain": [
              "ROW_ID                    0\n",
              "SUBJECT_ID                0\n",
              "GENDER                    0\n",
              "DOB                       0\n",
              "HADM_ID                   0\n",
              "PATIENTWEIGHT             0\n",
              "DIAGNOSIS                 0\n",
              "ADMITTIME                 0\n",
              "DISCHTIME                 0\n",
              "ADMISSION_LOCATION        0\n",
              "DEATHTIME             51011\n",
              "DISCHARGE_LOCATION        0\n",
              "INSURANCE                 0\n",
              "RELIGION                  0\n",
              "MARITAL_STATUS         1719\n",
              "ETHNICITY                 0\n",
              "EDOUTTIME              6194\n",
              "dtype: int64"
            ]
          },
          "metadata": {
            "tags": []
          },
          "execution_count": 458
        }
      ]
    },
    {
      "cell_type": "code",
      "metadata": {
        "colab": {
          "base_uri": "https://localhost:8080/",
          "height": 282
        },
        "id": "Oucm20ps6iRg",
        "outputId": "a6b37759-50a7-4f2f-f971-81cfefbf3e48"
      },
      "source": [
        "df['DIAGNOSIS'].hist()"
      ],
      "execution_count": 459,
      "outputs": [
        {
          "output_type": "execute_result",
          "data": {
            "text/plain": [
              "<matplotlib.axes._subplots.AxesSubplot at 0x7f04a1990810>"
            ]
          },
          "metadata": {
            "tags": []
          },
          "execution_count": 459
        },
        {
          "output_type": "display_data",
          "data": {
            "image/png": "[encoded data removed]",
            "text/plain": [
              "<Figure size 432x288 with 1 Axes>"
            ]
          },
          "metadata": {
            "tags": [],
            "needs_background": "light"
          }
        }
      ]
    },
    {
      "cell_type": "code",
      "metadata": {
        "colab": {
          "base_uri": "https://localhost:8080/",
          "height": 383
        },
        "id": "RkRYx7O54q1U",
        "outputId": "b6404f0e-1a34-4ffd-9ae7-b1866cf65da7"
      },
      "source": [
        "df.head()"
      ],
      "execution_count": 460,
      "outputs": [
        {
          "output_type": "execute_result",
          "data": {
            "text/html": [
              "<div>\n",
              "<style scoped>\n",
              "    .dataframe tbody tr th:only-of-type {\n",
              "        vertical-align: middle;\n",
              "    }\n",
              "\n",
              "    .dataframe tbody tr th {\n",
              "        vertical-align: top;\n",
              "    }\n",
              "\n",
              "    .dataframe thead th {\n",
              "        text-align: right;\n",
              "    }\n",
              "</style>\n",
              "<table border=\"1\" class=\"dataframe\">\n",
              "  <thead>\n",
              "    <tr style=\"text-align: right;\">\n",
              "      <th></th>\n",
              "      <th>ROW_ID</th>\n",
              "      <th>SUBJECT_ID</th>\n",
              "      <th>GENDER</th>\n",
              "      <th>DOB</th>\n",
              "      <th>HADM_ID</th>\n",
              "      <th>PATIENTWEIGHT</th>\n",
              "      <th>DIAGNOSIS</th>\n",
              "      <th>ADMITTIME</th>\n",
              "      <th>DISCHTIME</th>\n",
              "      <th>ADMISSION_LOCATION</th>\n",
              "      <th>DEATHTIME</th>\n",
              "      <th>DISCHARGE_LOCATION</th>\n",
              "      <th>INSURANCE</th>\n",
              "      <th>RELIGION</th>\n",
              "      <th>MARITAL_STATUS</th>\n",
              "      <th>ETHNICITY</th>\n",
              "      <th>EDOUTTIME</th>\n",
              "    </tr>\n",
              "  </thead>\n",
              "  <tbody>\n",
              "    <tr>\n",
              "      <th>0</th>\n",
              "      <td>1997208</td>\n",
              "      <td>74821</td>\n",
              "      <td>M</td>\n",
              "      <td>2108-04-25</td>\n",
              "      <td>146804</td>\n",
              "      <td>1370.0</td>\n",
              "      <td>CHEST PAIN</td>\n",
              "      <td>2141-09-29 15:25:00</td>\n",
              "      <td>2141-10-04 10:30:00</td>\n",
              "      <td>CLINIC REFERRAL/PREMATURE</td>\n",
              "      <td>NaT</td>\n",
              "      <td>REHAB/DISTINCT PART HOSP</td>\n",
              "      <td>Private</td>\n",
              "      <td>CATHOLIC</td>\n",
              "      <td>MARRIED</td>\n",
              "      <td>WHITE</td>\n",
              "      <td>2141-09-29 16:32:00</td>\n",
              "    </tr>\n",
              "    <tr>\n",
              "      <th>1</th>\n",
              "      <td>1997215</td>\n",
              "      <td>74821</td>\n",
              "      <td>M</td>\n",
              "      <td>2108-04-25</td>\n",
              "      <td>146804</td>\n",
              "      <td>1370.0</td>\n",
              "      <td>CHEST PAIN</td>\n",
              "      <td>2141-09-29 15:25:00</td>\n",
              "      <td>2141-10-04 10:30:00</td>\n",
              "      <td>CLINIC REFERRAL/PREMATURE</td>\n",
              "      <td>NaT</td>\n",
              "      <td>REHAB/DISTINCT PART HOSP</td>\n",
              "      <td>Private</td>\n",
              "      <td>CATHOLIC</td>\n",
              "      <td>MARRIED</td>\n",
              "      <td>WHITE</td>\n",
              "      <td>2141-09-29 16:32:00</td>\n",
              "    </tr>\n",
              "    <tr>\n",
              "      <th>2</th>\n",
              "      <td>1997213</td>\n",
              "      <td>74821</td>\n",
              "      <td>M</td>\n",
              "      <td>2108-04-25</td>\n",
              "      <td>146804</td>\n",
              "      <td>1370.0</td>\n",
              "      <td>CHEST PAIN</td>\n",
              "      <td>2141-09-29 15:25:00</td>\n",
              "      <td>2141-10-04 10:30:00</td>\n",
              "      <td>CLINIC REFERRAL/PREMATURE</td>\n",
              "      <td>NaT</td>\n",
              "      <td>REHAB/DISTINCT PART HOSP</td>\n",
              "      <td>Private</td>\n",
              "      <td>CATHOLIC</td>\n",
              "      <td>MARRIED</td>\n",
              "      <td>WHITE</td>\n",
              "      <td>2141-09-29 16:32:00</td>\n",
              "    </tr>\n",
              "    <tr>\n",
              "      <th>3</th>\n",
              "      <td>1997209</td>\n",
              "      <td>74821</td>\n",
              "      <td>M</td>\n",
              "      <td>2108-04-25</td>\n",
              "      <td>146804</td>\n",
              "      <td>1370.0</td>\n",
              "      <td>CHEST PAIN</td>\n",
              "      <td>2141-09-29 15:25:00</td>\n",
              "      <td>2141-10-04 10:30:00</td>\n",
              "      <td>CLINIC REFERRAL/PREMATURE</td>\n",
              "      <td>NaT</td>\n",
              "      <td>REHAB/DISTINCT PART HOSP</td>\n",
              "      <td>Private</td>\n",
              "      <td>CATHOLIC</td>\n",
              "      <td>MARRIED</td>\n",
              "      <td>WHITE</td>\n",
              "      <td>2141-09-29 16:32:00</td>\n",
              "    </tr>\n",
              "    <tr>\n",
              "      <th>4</th>\n",
              "      <td>1997212</td>\n",
              "      <td>74821</td>\n",
              "      <td>M</td>\n",
              "      <td>2108-04-25</td>\n",
              "      <td>146804</td>\n",
              "      <td>1370.0</td>\n",
              "      <td>CHEST PAIN</td>\n",
              "      <td>2141-09-29 15:25:00</td>\n",
              "      <td>2141-10-04 10:30:00</td>\n",
              "      <td>CLINIC REFERRAL/PREMATURE</td>\n",
              "      <td>NaT</td>\n",
              "      <td>REHAB/DISTINCT PART HOSP</td>\n",
              "      <td>Private</td>\n",
              "      <td>CATHOLIC</td>\n",
              "      <td>MARRIED</td>\n",
              "      <td>WHITE</td>\n",
              "      <td>2141-09-29 16:32:00</td>\n",
              "    </tr>\n",
              "  </tbody>\n",
              "</table>\n",
              "</div>"
            ],
            "text/plain": [
              "    ROW_ID  SUBJECT_ID GENDER  ... MARITAL_STATUS  ETHNICITY           EDOUTTIME\n",
              "0  1997208       74821      M  ...        MARRIED      WHITE 2141-09-29 16:32:00\n",
              "1  1997215       74821      M  ...        MARRIED      WHITE 2141-09-29 16:32:00\n",
              "2  1997213       74821      M  ...        MARRIED      WHITE 2141-09-29 16:32:00\n",
              "3  1997209       74821      M  ...        MARRIED      WHITE 2141-09-29 16:32:00\n",
              "4  1997212       74821      M  ...        MARRIED      WHITE 2141-09-29 16:32:00\n",
              "\n",
              "[5 rows x 17 columns]"
            ]
          },
          "metadata": {
            "tags": []
          },
          "execution_count": 460
        }
      ]
    },
    {
      "cell_type": "code",
      "metadata": {
        "colab": {
          "base_uri": "https://localhost:8080/"
        },
        "id": "5fMRmsyh4_sy",
        "outputId": "f74c4e12-53de-4915-8c98-3ea7bca91e56"
      },
      "source": [
        "df['AGE'] = df['ADMITTIME'].sub(df['DOB']) // np.timedelta64(1,'Y')\n",
        "df['AGE']"
      ],
      "execution_count": 461,
      "outputs": [
        {
          "output_type": "execute_result",
          "data": {
            "text/plain": [
              "0        33\n",
              "1        33\n",
              "2        33\n",
              "3        33\n",
              "4        33\n",
              "         ..\n",
              "60573    80\n",
              "60574    80\n",
              "60575    80\n",
              "60576    80\n",
              "60577    80\n",
              "Name: AGE, Length: 60578, dtype: int64"
            ]
          },
          "metadata": {
            "tags": []
          },
          "execution_count": 461
        }
      ]
    },
    {
      "cell_type": "code",
      "metadata": {
        "colab": {
          "base_uri": "https://localhost:8080/",
          "height": 282
        },
        "id": "tgIdBVBc8mAA",
        "outputId": "89381838-8899-4595-cc97-baa011879f00"
      },
      "source": [
        "df['AGE'].hist()"
      ],
      "execution_count": 462,
      "outputs": [
        {
          "output_type": "execute_result",
          "data": {
            "text/plain": [
              "<matplotlib.axes._subplots.AxesSubplot at 0x7f04a0950890>"
            ]
          },
          "metadata": {
            "tags": []
          },
          "execution_count": 462
        },
        {
          "output_type": "display_data",
          "data": {
            "image/png": "[encoded data removed]",
            "text/plain": [
              "<Figure size 432x288 with 1 Axes>"
            ]
          },
          "metadata": {
            "tags": [],
            "needs_background": "light"
          }
        }
      ]
    },
    {
      "cell_type": "code",
      "metadata": {
        "colab": {
          "base_uri": "https://localhost:8080/"
        },
        "id": "y-Ab_1vUCT8F",
        "outputId": "2daa6766-173f-4062-dade-a1af57938b05"
      },
      "source": [
        "df.shape[0]"
      ],
      "execution_count": 463,
      "outputs": [
        {
          "output_type": "execute_result",
          "data": {
            "text/plain": [
              "60578"
            ]
          },
          "metadata": {
            "tags": []
          },
          "execution_count": 463
        }
      ]
    },
    {
      "cell_type": "code",
      "metadata": {
        "colab": {
          "base_uri": "https://localhost:8080/"
        },
        "id": "JBsiT_e-FvaF",
        "outputId": "fbe9a53b-07b8-45c3-f964-d94007d41a4a"
      },
      "source": [
        "df.count()"
      ],
      "execution_count": 464,
      "outputs": [
        {
          "output_type": "execute_result",
          "data": {
            "text/plain": [
              "ROW_ID                60578\n",
              "SUBJECT_ID            60578\n",
              "GENDER                60578\n",
              "DOB                   60578\n",
              "HADM_ID               60578\n",
              "PATIENTWEIGHT         60578\n",
              "DIAGNOSIS             60578\n",
              "ADMITTIME             60578\n",
              "DISCHTIME             60578\n",
              "ADMISSION_LOCATION    60578\n",
              "DEATHTIME              9567\n",
              "DISCHARGE_LOCATION    60578\n",
              "INSURANCE             60578\n",
              "RELIGION              60578\n",
              "MARITAL_STATUS        58859\n",
              "ETHNICITY             60578\n",
              "EDOUTTIME             54384\n",
              "AGE                   60578\n",
              "dtype: int64"
            ]
          },
          "metadata": {
            "tags": []
          },
          "execution_count": 464
        }
      ]
    },
    {
      "cell_type": "code",
      "metadata": {
        "colab": {
          "base_uri": "https://localhost:8080/",
          "height": 451
        },
        "id": "VZ98SVcdG4Qa",
        "outputId": "d2fa888a-c417-4cc7-d2f1-ec530f5b9b8b"
      },
      "source": [
        "df.groupby('SUBJECT_ID').count()"
      ],
      "execution_count": 465,
      "outputs": [
        {
          "output_type": "execute_result",
          "data": {
            "text/html": [
              "<div>\n",
              "<style scoped>\n",
              "    .dataframe tbody tr th:only-of-type {\n",
              "        vertical-align: middle;\n",
              "    }\n",
              "\n",
              "    .dataframe tbody tr th {\n",
              "        vertical-align: top;\n",
              "    }\n",
              "\n",
              "    .dataframe thead th {\n",
              "        text-align: right;\n",
              "    }\n",
              "</style>\n",
              "<table border=\"1\" class=\"dataframe\">\n",
              "  <thead>\n",
              "    <tr style=\"text-align: right;\">\n",
              "      <th></th>\n",
              "      <th>ROW_ID</th>\n",
              "      <th>GENDER</th>\n",
              "      <th>DOB</th>\n",
              "      <th>HADM_ID</th>\n",
              "      <th>PATIENTWEIGHT</th>\n",
              "      <th>DIAGNOSIS</th>\n",
              "      <th>ADMITTIME</th>\n",
              "      <th>DISCHTIME</th>\n",
              "      <th>ADMISSION_LOCATION</th>\n",
              "      <th>DEATHTIME</th>\n",
              "      <th>DISCHARGE_LOCATION</th>\n",
              "      <th>INSURANCE</th>\n",
              "      <th>RELIGION</th>\n",
              "      <th>MARITAL_STATUS</th>\n",
              "      <th>ETHNICITY</th>\n",
              "      <th>EDOUTTIME</th>\n",
              "      <th>AGE</th>\n",
              "    </tr>\n",
              "    <tr>\n",
              "      <th>SUBJECT_ID</th>\n",
              "      <th></th>\n",
              "      <th></th>\n",
              "      <th></th>\n",
              "      <th></th>\n",
              "      <th></th>\n",
              "      <th></th>\n",
              "      <th></th>\n",
              "      <th></th>\n",
              "      <th></th>\n",
              "      <th></th>\n",
              "      <th></th>\n",
              "      <th></th>\n",
              "      <th></th>\n",
              "      <th></th>\n",
              "      <th></th>\n",
              "      <th></th>\n",
              "      <th></th>\n",
              "    </tr>\n",
              "  </thead>\n",
              "  <tbody>\n",
              "    <tr>\n",
              "      <th>835</th>\n",
              "      <td>20</td>\n",
              "      <td>20</td>\n",
              "      <td>20</td>\n",
              "      <td>20</td>\n",
              "      <td>20</td>\n",
              "      <td>20</td>\n",
              "      <td>20</td>\n",
              "      <td>20</td>\n",
              "      <td>20</td>\n",
              "      <td>0</td>\n",
              "      <td>20</td>\n",
              "      <td>20</td>\n",
              "      <td>20</td>\n",
              "      <td>20</td>\n",
              "      <td>20</td>\n",
              "      <td>20</td>\n",
              "      <td>20</td>\n",
              "    </tr>\n",
              "    <tr>\n",
              "      <th>902</th>\n",
              "      <td>79</td>\n",
              "      <td>79</td>\n",
              "      <td>79</td>\n",
              "      <td>79</td>\n",
              "      <td>79</td>\n",
              "      <td>79</td>\n",
              "      <td>79</td>\n",
              "      <td>79</td>\n",
              "      <td>79</td>\n",
              "      <td>0</td>\n",
              "      <td>79</td>\n",
              "      <td>79</td>\n",
              "      <td>79</td>\n",
              "      <td>79</td>\n",
              "      <td>79</td>\n",
              "      <td>0</td>\n",
              "      <td>79</td>\n",
              "    </tr>\n",
              "    <tr>\n",
              "      <th>1018</th>\n",
              "      <td>30</td>\n",
              "      <td>30</td>\n",
              "      <td>30</td>\n",
              "      <td>30</td>\n",
              "      <td>30</td>\n",
              "      <td>30</td>\n",
              "      <td>30</td>\n",
              "      <td>30</td>\n",
              "      <td>30</td>\n",
              "      <td>0</td>\n",
              "      <td>30</td>\n",
              "      <td>30</td>\n",
              "      <td>30</td>\n",
              "      <td>30</td>\n",
              "      <td>30</td>\n",
              "      <td>30</td>\n",
              "      <td>30</td>\n",
              "    </tr>\n",
              "    <tr>\n",
              "      <th>1354</th>\n",
              "      <td>184</td>\n",
              "      <td>184</td>\n",
              "      <td>184</td>\n",
              "      <td>184</td>\n",
              "      <td>184</td>\n",
              "      <td>184</td>\n",
              "      <td>184</td>\n",
              "      <td>184</td>\n",
              "      <td>184</td>\n",
              "      <td>0</td>\n",
              "      <td>184</td>\n",
              "      <td>184</td>\n",
              "      <td>184</td>\n",
              "      <td>184</td>\n",
              "      <td>184</td>\n",
              "      <td>0</td>\n",
              "      <td>184</td>\n",
              "    </tr>\n",
              "    <tr>\n",
              "      <th>1986</th>\n",
              "      <td>6</td>\n",
              "      <td>6</td>\n",
              "      <td>6</td>\n",
              "      <td>6</td>\n",
              "      <td>6</td>\n",
              "      <td>6</td>\n",
              "      <td>6</td>\n",
              "      <td>6</td>\n",
              "      <td>6</td>\n",
              "      <td>0</td>\n",
              "      <td>6</td>\n",
              "      <td>6</td>\n",
              "      <td>6</td>\n",
              "      <td>6</td>\n",
              "      <td>6</td>\n",
              "      <td>6</td>\n",
              "      <td>6</td>\n",
              "    </tr>\n",
              "    <tr>\n",
              "      <th>...</th>\n",
              "      <td>...</td>\n",
              "      <td>...</td>\n",
              "      <td>...</td>\n",
              "      <td>...</td>\n",
              "      <td>...</td>\n",
              "      <td>...</td>\n",
              "      <td>...</td>\n",
              "      <td>...</td>\n",
              "      <td>...</td>\n",
              "      <td>...</td>\n",
              "      <td>...</td>\n",
              "      <td>...</td>\n",
              "      <td>...</td>\n",
              "      <td>...</td>\n",
              "      <td>...</td>\n",
              "      <td>...</td>\n",
              "      <td>...</td>\n",
              "    </tr>\n",
              "    <tr>\n",
              "      <th>97818</th>\n",
              "      <td>27</td>\n",
              "      <td>27</td>\n",
              "      <td>27</td>\n",
              "      <td>27</td>\n",
              "      <td>27</td>\n",
              "      <td>27</td>\n",
              "      <td>27</td>\n",
              "      <td>27</td>\n",
              "      <td>27</td>\n",
              "      <td>0</td>\n",
              "      <td>27</td>\n",
              "      <td>27</td>\n",
              "      <td>27</td>\n",
              "      <td>27</td>\n",
              "      <td>27</td>\n",
              "      <td>27</td>\n",
              "      <td>27</td>\n",
              "    </tr>\n",
              "    <tr>\n",
              "      <th>98046</th>\n",
              "      <td>522</td>\n",
              "      <td>522</td>\n",
              "      <td>522</td>\n",
              "      <td>522</td>\n",
              "      <td>522</td>\n",
              "      <td>522</td>\n",
              "      <td>522</td>\n",
              "      <td>522</td>\n",
              "      <td>522</td>\n",
              "      <td>0</td>\n",
              "      <td>522</td>\n",
              "      <td>522</td>\n",
              "      <td>522</td>\n",
              "      <td>522</td>\n",
              "      <td>522</td>\n",
              "      <td>522</td>\n",
              "      <td>522</td>\n",
              "    </tr>\n",
              "    <tr>\n",
              "      <th>98664</th>\n",
              "      <td>262</td>\n",
              "      <td>262</td>\n",
              "      <td>262</td>\n",
              "      <td>262</td>\n",
              "      <td>262</td>\n",
              "      <td>262</td>\n",
              "      <td>262</td>\n",
              "      <td>262</td>\n",
              "      <td>262</td>\n",
              "      <td>0</td>\n",
              "      <td>262</td>\n",
              "      <td>262</td>\n",
              "      <td>262</td>\n",
              "      <td>262</td>\n",
              "      <td>262</td>\n",
              "      <td>262</td>\n",
              "      <td>262</td>\n",
              "    </tr>\n",
              "    <tr>\n",
              "      <th>98831</th>\n",
              "      <td>216</td>\n",
              "      <td>216</td>\n",
              "      <td>216</td>\n",
              "      <td>216</td>\n",
              "      <td>216</td>\n",
              "      <td>216</td>\n",
              "      <td>216</td>\n",
              "      <td>216</td>\n",
              "      <td>216</td>\n",
              "      <td>0</td>\n",
              "      <td>216</td>\n",
              "      <td>216</td>\n",
              "      <td>216</td>\n",
              "      <td>216</td>\n",
              "      <td>216</td>\n",
              "      <td>216</td>\n",
              "      <td>216</td>\n",
              "    </tr>\n",
              "    <tr>\n",
              "      <th>99356</th>\n",
              "      <td>113</td>\n",
              "      <td>113</td>\n",
              "      <td>113</td>\n",
              "      <td>113</td>\n",
              "      <td>113</td>\n",
              "      <td>113</td>\n",
              "      <td>113</td>\n",
              "      <td>113</td>\n",
              "      <td>113</td>\n",
              "      <td>0</td>\n",
              "      <td>113</td>\n",
              "      <td>113</td>\n",
              "      <td>113</td>\n",
              "      <td>113</td>\n",
              "      <td>113</td>\n",
              "      <td>0</td>\n",
              "      <td>113</td>\n",
              "    </tr>\n",
              "  </tbody>\n",
              "</table>\n",
              "<p>256 rows × 17 columns</p>\n",
              "</div>"
            ],
            "text/plain": [
              "            ROW_ID  GENDER  DOB  ...  ETHNICITY  EDOUTTIME  AGE\n",
              "SUBJECT_ID                       ...                           \n",
              "835             20      20   20  ...         20         20   20\n",
              "902             79      79   79  ...         79          0   79\n",
              "1018            30      30   30  ...         30         30   30\n",
              "1354           184     184  184  ...        184          0  184\n",
              "1986             6       6    6  ...          6          6    6\n",
              "...            ...     ...  ...  ...        ...        ...  ...\n",
              "97818           27      27   27  ...         27         27   27\n",
              "98046          522     522  522  ...        522        522  522\n",
              "98664          262     262  262  ...        262        262  262\n",
              "98831          216     216  216  ...        216        216  216\n",
              "99356          113     113  113  ...        113          0  113\n",
              "\n",
              "[256 rows x 17 columns]"
            ]
          },
          "metadata": {
            "tags": []
          },
          "execution_count": 465
        }
      ]
    },
    {
      "cell_type": "code",
      "metadata": {
        "colab": {
          "base_uri": "https://localhost:8080/"
        },
        "id": "DUHlslW3IKUJ",
        "outputId": "64a5b06d-1b39-427d-a910-eb0bcacd6167"
      },
      "source": [
        "df['PATIENTWEIGHT'].value_counts()"
      ],
      "execution_count": 466,
      "outputs": [
        {
          "output_type": "execute_result",
          "data": {
            "text/plain": [
              "85.9     3588\n",
              "90.0     3088\n",
              "100.0    2432\n",
              "84.1     2408\n",
              "98.0     2056\n",
              "         ... \n",
              "146.0       1\n",
              "130.0       1\n",
              "177.0       1\n",
              "143.9       1\n",
              "240.0       1\n",
              "Name: PATIENTWEIGHT, Length: 203, dtype: int64"
            ]
          },
          "metadata": {
            "tags": []
          },
          "execution_count": 466
        }
      ]
    },
    {
      "cell_type": "code",
      "metadata": {
        "colab": {
          "base_uri": "https://localhost:8080/"
        },
        "id": "Omnd2pv8Ifob",
        "outputId": "2d62d8fd-889a-4430-9932-51a9f1f33335"
      },
      "source": [
        "df['DIAGNOSIS'].value_counts()"
      ],
      "execution_count": 467,
      "outputs": [
        {
          "output_type": "execute_result",
          "data": {
            "text/plain": [
              "CHEST PAIN               43813\n",
              "CARDIAC ARREST           13989\n",
              "MYOCARDIAL INFARCTION     2535\n",
              "STROKE                     241\n",
              "Name: DIAGNOSIS, dtype: int64"
            ]
          },
          "metadata": {
            "tags": []
          },
          "execution_count": 467
        }
      ]
    },
    {
      "cell_type": "code",
      "metadata": {
        "colab": {
          "base_uri": "https://localhost:8080/"
        },
        "id": "L_mrRS-4IxKR",
        "outputId": "ea572749-48ef-47b2-f2ba-b4f1209a6b38"
      },
      "source": [
        "df['DEATHTIME'].value_counts(dropna = False)"
      ],
      "execution_count": 468,
      "outputs": [
        {
          "output_type": "execute_result",
          "data": {
            "text/plain": [
              "NaT                    51011\n",
              "2127-08-07 21:15:00     1646\n",
              "2174-09-21 12:00:00     1020\n",
              "2180-04-04 14:10:00      875\n",
              "2141-04-05 14:00:00      862\n",
              "2191-07-26 14:50:00      608\n",
              "2151-04-10 03:00:00      502\n",
              "2174-07-01 16:45:00      476\n",
              "2161-11-13 15:13:00      451\n",
              "2117-01-23 10:40:00      346\n",
              "2135-10-16 11:55:00      308\n",
              "2149-01-23 16:43:00      280\n",
              "2177-04-25 13:30:00      266\n",
              "2133-02-23 17:30:00      259\n",
              "2132-01-07 23:49:00      252\n",
              "2146-05-26 05:15:00      235\n",
              "2119-04-07 17:50:00      194\n",
              "2165-03-25 21:50:00      181\n",
              "2183-02-08 15:00:00      156\n",
              "2125-03-04 01:00:00      151\n",
              "2183-11-14 21:20:00      119\n",
              "2161-04-23 21:35:00      115\n",
              "2115-03-11 07:30:00      113\n",
              "2159-09-30 12:57:00       62\n",
              "2126-11-06 05:00:00       48\n",
              "2167-01-22 16:31:00       24\n",
              "2135-04-03 12:00:00        7\n",
              "2190-11-19 22:00:00        6\n",
              "2107-03-20 11:30:00        5\n",
              "Name: DEATHTIME, dtype: int64"
            ]
          },
          "metadata": {
            "tags": []
          },
          "execution_count": 468
        }
      ]
    },
    {
      "cell_type": "code",
      "metadata": {
        "id": "lkyyPUqjiron"
      },
      "source": [
        "df['DEATHTIME'] = df['DEATHTIME'].fillna('ACTIVE')"
      ],
      "execution_count": 469,
      "outputs": []
    },
    {
      "cell_type": "code",
      "metadata": {
        "colab": {
          "base_uri": "https://localhost:8080/"
        },
        "id": "VVgiTvrckUZI",
        "outputId": "337d3e5b-4f07-48bf-a11a-47aa76c080ac"
      },
      "source": [
        "df['DEATHTIME'].value_counts(dropna = False)"
      ],
      "execution_count": 470,
      "outputs": [
        {
          "output_type": "execute_result",
          "data": {
            "text/plain": [
              "ACTIVE                 51011\n",
              "2127-08-07 21:15:00     1646\n",
              "2174-09-21 12:00:00     1020\n",
              "2180-04-04 14:10:00      875\n",
              "2141-04-05 14:00:00      862\n",
              "2191-07-26 14:50:00      608\n",
              "2151-04-10 03:00:00      502\n",
              "2174-07-01 16:45:00      476\n",
              "2161-11-13 15:13:00      451\n",
              "2117-01-23 10:40:00      346\n",
              "2135-10-16 11:55:00      308\n",
              "2149-01-23 16:43:00      280\n",
              "2177-04-25 13:30:00      266\n",
              "2133-02-23 17:30:00      259\n",
              "2132-01-07 23:49:00      252\n",
              "2146-05-26 05:15:00      235\n",
              "2119-04-07 17:50:00      194\n",
              "2165-03-25 21:50:00      181\n",
              "2183-02-08 15:00:00      156\n",
              "2125-03-04 01:00:00      151\n",
              "2183-11-14 21:20:00      119\n",
              "2161-04-23 21:35:00      115\n",
              "2115-03-11 07:30:00      113\n",
              "2159-09-30 12:57:00       62\n",
              "2126-11-06 05:00:00       48\n",
              "2167-01-22 16:31:00       24\n",
              "2135-04-03 12:00:00        7\n",
              "2190-11-19 22:00:00        6\n",
              "2107-03-20 11:30:00        5\n",
              "Name: DEATHTIME, dtype: int64"
            ]
          },
          "metadata": {
            "tags": []
          },
          "execution_count": 470
        }
      ]
    },
    {
      "cell_type": "code",
      "metadata": {
        "id": "SwHpKYayk514"
      },
      "source": [
        "df['ACTIVE PATIENT'] = (df['DEATHTIME'] == 'ACTIVE') * 1"
      ],
      "execution_count": 471,
      "outputs": []
    },
    {
      "cell_type": "code",
      "metadata": {
        "colab": {
          "base_uri": "https://localhost:8080/"
        },
        "id": "ZyqFkO5ZlPWx",
        "outputId": "934cf031-b1c2-4d25-e043-9ce89c5008f9"
      },
      "source": [
        "df['ACTIVE PATIENT'].value_counts()"
      ],
      "execution_count": 472,
      "outputs": [
        {
          "output_type": "execute_result",
          "data": {
            "text/plain": [
              "1    51011\n",
              "0     9567\n",
              "Name: ACTIVE PATIENT, dtype: int64"
            ]
          },
          "metadata": {
            "tags": []
          },
          "execution_count": 472
        }
      ]
    },
    {
      "cell_type": "code",
      "metadata": {
        "colab": {
          "base_uri": "https://localhost:8080/",
          "height": 400
        },
        "id": "5ESpzbsclrNo",
        "outputId": "ba524658-b8d1-4ce2-9e24-6c6effd014f1"
      },
      "source": [
        "df.head()"
      ],
      "execution_count": 473,
      "outputs": [
        {
          "output_type": "execute_result",
          "data": {
            "text/html": [
              "<div>\n",
              "<style scoped>\n",
              "    .dataframe tbody tr th:only-of-type {\n",
              "        vertical-align: middle;\n",
              "    }\n",
              "\n",
              "    .dataframe tbody tr th {\n",
              "        vertical-align: top;\n",
              "    }\n",
              "\n",
              "    .dataframe thead th {\n",
              "        text-align: right;\n",
              "    }\n",
              "</style>\n",
              "<table border=\"1\" class=\"dataframe\">\n",
              "  <thead>\n",
              "    <tr style=\"text-align: right;\">\n",
              "      <th></th>\n",
              "      <th>ROW_ID</th>\n",
              "      <th>SUBJECT_ID</th>\n",
              "      <th>GENDER</th>\n",
              "      <th>DOB</th>\n",
              "      <th>HADM_ID</th>\n",
              "      <th>PATIENTWEIGHT</th>\n",
              "      <th>DIAGNOSIS</th>\n",
              "      <th>ADMITTIME</th>\n",
              "      <th>DISCHTIME</th>\n",
              "      <th>ADMISSION_LOCATION</th>\n",
              "      <th>DEATHTIME</th>\n",
              "      <th>DISCHARGE_LOCATION</th>\n",
              "      <th>INSURANCE</th>\n",
              "      <th>RELIGION</th>\n",
              "      <th>MARITAL_STATUS</th>\n",
              "      <th>ETHNICITY</th>\n",
              "      <th>EDOUTTIME</th>\n",
              "      <th>AGE</th>\n",
              "      <th>ACTIVE PATIENT</th>\n",
              "    </tr>\n",
              "  </thead>\n",
              "  <tbody>\n",
              "    <tr>\n",
              "      <th>0</th>\n",
              "      <td>1997208</td>\n",
              "      <td>74821</td>\n",
              "      <td>M</td>\n",
              "      <td>2108-04-25</td>\n",
              "      <td>146804</td>\n",
              "      <td>1370.0</td>\n",
              "      <td>CHEST PAIN</td>\n",
              "      <td>2141-09-29 15:25:00</td>\n",
              "      <td>2141-10-04 10:30:00</td>\n",
              "      <td>CLINIC REFERRAL/PREMATURE</td>\n",
              "      <td>ACTIVE</td>\n",
              "      <td>REHAB/DISTINCT PART HOSP</td>\n",
              "      <td>Private</td>\n",
              "      <td>CATHOLIC</td>\n",
              "      <td>MARRIED</td>\n",
              "      <td>WHITE</td>\n",
              "      <td>2141-09-29 16:32:00</td>\n",
              "      <td>33</td>\n",
              "      <td>1</td>\n",
              "    </tr>\n",
              "    <tr>\n",
              "      <th>1</th>\n",
              "      <td>1997215</td>\n",
              "      <td>74821</td>\n",
              "      <td>M</td>\n",
              "      <td>2108-04-25</td>\n",
              "      <td>146804</td>\n",
              "      <td>1370.0</td>\n",
              "      <td>CHEST PAIN</td>\n",
              "      <td>2141-09-29 15:25:00</td>\n",
              "      <td>2141-10-04 10:30:00</td>\n",
              "      <td>CLINIC REFERRAL/PREMATURE</td>\n",
              "      <td>ACTIVE</td>\n",
              "      <td>REHAB/DISTINCT PART HOSP</td>\n",
              "      <td>Private</td>\n",
              "      <td>CATHOLIC</td>\n",
              "      <td>MARRIED</td>\n",
              "      <td>WHITE</td>\n",
              "      <td>2141-09-29 16:32:00</td>\n",
              "      <td>33</td>\n",
              "      <td>1</td>\n",
              "    </tr>\n",
              "    <tr>\n",
              "      <th>2</th>\n",
              "      <td>1997213</td>\n",
              "      <td>74821</td>\n",
              "      <td>M</td>\n",
              "      <td>2108-04-25</td>\n",
              "      <td>146804</td>\n",
              "      <td>1370.0</td>\n",
              "      <td>CHEST PAIN</td>\n",
              "      <td>2141-09-29 15:25:00</td>\n",
              "      <td>2141-10-04 10:30:00</td>\n",
              "      <td>CLINIC REFERRAL/PREMATURE</td>\n",
              "      <td>ACTIVE</td>\n",
              "      <td>REHAB/DISTINCT PART HOSP</td>\n",
              "      <td>Private</td>\n",
              "      <td>CATHOLIC</td>\n",
              "      <td>MARRIED</td>\n",
              "      <td>WHITE</td>\n",
              "      <td>2141-09-29 16:32:00</td>\n",
              "      <td>33</td>\n",
              "      <td>1</td>\n",
              "    </tr>\n",
              "    <tr>\n",
              "      <th>3</th>\n",
              "      <td>1997209</td>\n",
              "      <td>74821</td>\n",
              "      <td>M</td>\n",
              "      <td>2108-04-25</td>\n",
              "      <td>146804</td>\n",
              "      <td>1370.0</td>\n",
              "      <td>CHEST PAIN</td>\n",
              "      <td>2141-09-29 15:25:00</td>\n",
              "      <td>2141-10-04 10:30:00</td>\n",
              "      <td>CLINIC REFERRAL/PREMATURE</td>\n",
              "      <td>ACTIVE</td>\n",
              "      <td>REHAB/DISTINCT PART HOSP</td>\n",
              "      <td>Private</td>\n",
              "      <td>CATHOLIC</td>\n",
              "      <td>MARRIED</td>\n",
              "      <td>WHITE</td>\n",
              "      <td>2141-09-29 16:32:00</td>\n",
              "      <td>33</td>\n",
              "      <td>1</td>\n",
              "    </tr>\n",
              "    <tr>\n",
              "      <th>4</th>\n",
              "      <td>1997212</td>\n",
              "      <td>74821</td>\n",
              "      <td>M</td>\n",
              "      <td>2108-04-25</td>\n",
              "      <td>146804</td>\n",
              "      <td>1370.0</td>\n",
              "      <td>CHEST PAIN</td>\n",
              "      <td>2141-09-29 15:25:00</td>\n",
              "      <td>2141-10-04 10:30:00</td>\n",
              "      <td>CLINIC REFERRAL/PREMATURE</td>\n",
              "      <td>ACTIVE</td>\n",
              "      <td>REHAB/DISTINCT PART HOSP</td>\n",
              "      <td>Private</td>\n",
              "      <td>CATHOLIC</td>\n",
              "      <td>MARRIED</td>\n",
              "      <td>WHITE</td>\n",
              "      <td>2141-09-29 16:32:00</td>\n",
              "      <td>33</td>\n",
              "      <td>1</td>\n",
              "    </tr>\n",
              "  </tbody>\n",
              "</table>\n",
              "</div>"
            ],
            "text/plain": [
              "    ROW_ID  SUBJECT_ID GENDER  ...           EDOUTTIME  AGE  ACTIVE PATIENT\n",
              "0  1997208       74821      M  ... 2141-09-29 16:32:00   33               1\n",
              "1  1997215       74821      M  ... 2141-09-29 16:32:00   33               1\n",
              "2  1997213       74821      M  ... 2141-09-29 16:32:00   33               1\n",
              "3  1997209       74821      M  ... 2141-09-29 16:32:00   33               1\n",
              "4  1997212       74821      M  ... 2141-09-29 16:32:00   33               1\n",
              "\n",
              "[5 rows x 19 columns]"
            ]
          },
          "metadata": {
            "tags": []
          },
          "execution_count": 473
        }
      ]
    },
    {
      "cell_type": "code",
      "metadata": {
        "colab": {
          "base_uri": "https://localhost:8080/",
          "height": 402
        },
        "id": "srSxKfuRzoUN",
        "outputId": "20aa568f-ff89-49f1-86fe-5fd0518e676b"
      },
      "source": [
        "tmp_DIAGNOSIS = pd.get_dummies(df['DIAGNOSIS'], prefix = 'DIAGNOSIS')\n",
        "tmp_DIAGNOSIS"
      ],
      "execution_count": 474,
      "outputs": [
        {
          "output_type": "execute_result",
          "data": {
            "text/html": [
              "<div>\n",
              "<style scoped>\n",
              "    .dataframe tbody tr th:only-of-type {\n",
              "        vertical-align: middle;\n",
              "    }\n",
              "\n",
              "    .dataframe tbody tr th {\n",
              "        vertical-align: top;\n",
              "    }\n",
              "\n",
              "    .dataframe thead th {\n",
              "        text-align: right;\n",
              "    }\n",
              "</style>\n",
              "<table border=\"1\" class=\"dataframe\">\n",
              "  <thead>\n",
              "    <tr style=\"text-align: right;\">\n",
              "      <th></th>\n",
              "      <th>DIAGNOSIS_CARDIAC ARREST</th>\n",
              "      <th>DIAGNOSIS_CHEST PAIN</th>\n",
              "      <th>DIAGNOSIS_MYOCARDIAL INFARCTION</th>\n",
              "      <th>DIAGNOSIS_STROKE</th>\n",
              "    </tr>\n",
              "  </thead>\n",
              "  <tbody>\n",
              "    <tr>\n",
              "      <th>0</th>\n",
              "      <td>0</td>\n",
              "      <td>1</td>\n",
              "      <td>0</td>\n",
              "      <td>0</td>\n",
              "    </tr>\n",
              "    <tr>\n",
              "      <th>1</th>\n",
              "      <td>0</td>\n",
              "      <td>1</td>\n",
              "      <td>0</td>\n",
              "      <td>0</td>\n",
              "    </tr>\n",
              "    <tr>\n",
              "      <th>2</th>\n",
              "      <td>0</td>\n",
              "      <td>1</td>\n",
              "      <td>0</td>\n",
              "      <td>0</td>\n",
              "    </tr>\n",
              "    <tr>\n",
              "      <th>3</th>\n",
              "      <td>0</td>\n",
              "      <td>1</td>\n",
              "      <td>0</td>\n",
              "      <td>0</td>\n",
              "    </tr>\n",
              "    <tr>\n",
              "      <th>4</th>\n",
              "      <td>0</td>\n",
              "      <td>1</td>\n",
              "      <td>0</td>\n",
              "      <td>0</td>\n",
              "    </tr>\n",
              "    <tr>\n",
              "      <th>...</th>\n",
              "      <td>...</td>\n",
              "      <td>...</td>\n",
              "      <td>...</td>\n",
              "      <td>...</td>\n",
              "    </tr>\n",
              "    <tr>\n",
              "      <th>60573</th>\n",
              "      <td>0</td>\n",
              "      <td>1</td>\n",
              "      <td>0</td>\n",
              "      <td>0</td>\n",
              "    </tr>\n",
              "    <tr>\n",
              "      <th>60574</th>\n",
              "      <td>0</td>\n",
              "      <td>1</td>\n",
              "      <td>0</td>\n",
              "      <td>0</td>\n",
              "    </tr>\n",
              "    <tr>\n",
              "      <th>60575</th>\n",
              "      <td>0</td>\n",
              "      <td>1</td>\n",
              "      <td>0</td>\n",
              "      <td>0</td>\n",
              "    </tr>\n",
              "    <tr>\n",
              "      <th>60576</th>\n",
              "      <td>0</td>\n",
              "      <td>1</td>\n",
              "      <td>0</td>\n",
              "      <td>0</td>\n",
              "    </tr>\n",
              "    <tr>\n",
              "      <th>60577</th>\n",
              "      <td>0</td>\n",
              "      <td>1</td>\n",
              "      <td>0</td>\n",
              "      <td>0</td>\n",
              "    </tr>\n",
              "  </tbody>\n",
              "</table>\n",
              "<p>60578 rows × 4 columns</p>\n",
              "</div>"
            ],
            "text/plain": [
              "       DIAGNOSIS_CARDIAC ARREST  ...  DIAGNOSIS_STROKE\n",
              "0                             0  ...                 0\n",
              "1                             0  ...                 0\n",
              "2                             0  ...                 0\n",
              "3                             0  ...                 0\n",
              "4                             0  ...                 0\n",
              "...                         ...  ...               ...\n",
              "60573                         0  ...                 0\n",
              "60574                         0  ...                 0\n",
              "60575                         0  ...                 0\n",
              "60576                         0  ...                 0\n",
              "60577                         0  ...                 0\n",
              "\n",
              "[60578 rows x 4 columns]"
            ]
          },
          "metadata": {
            "tags": []
          },
          "execution_count": 474
        }
      ]
    },
    {
      "cell_type": "code",
      "metadata": {
        "id": "UXMSI37zz4gP"
      },
      "source": [
        "df = pd.concat([df, tmp_DIAGNOSIS], axis = 1) "
      ],
      "execution_count": 475,
      "outputs": []
    },
    {
      "cell_type": "code",
      "metadata": {
        "colab": {
          "base_uri": "https://localhost:8080/",
          "height": 402
        },
        "id": "SZLqrePv4_vZ",
        "outputId": "4461de9d-caca-46b9-bae1-bb23b91f8198"
      },
      "source": [
        "tmp_categories = list(df['INSURANCE'].value_counts()[:3].keys()) + ['OTHERS'] \n",
        "\n",
        "tmp_categories_dtype = pd.CategoricalDtype(tmp_categories)\n",
        "\n",
        "tmp_INSURANCE = df['INSURANCE'].astype(tmp_categories_dtype).fillna('OTHERS')\n",
        "tmp_INSURANCE = pd.get_dummies(tmp_INSURANCE, prefix = 'INSURANCE') \n",
        "\n",
        "df = pd.concat([df, tmp_INSURANCE], axis = 1) \n",
        "\n",
        "tmp_INSURANCE"
      ],
      "execution_count": 476,
      "outputs": [
        {
          "output_type": "execute_result",
          "data": {
            "text/html": [
              "<div>\n",
              "<style scoped>\n",
              "    .dataframe tbody tr th:only-of-type {\n",
              "        vertical-align: middle;\n",
              "    }\n",
              "\n",
              "    .dataframe tbody tr th {\n",
              "        vertical-align: top;\n",
              "    }\n",
              "\n",
              "    .dataframe thead th {\n",
              "        text-align: right;\n",
              "    }\n",
              "</style>\n",
              "<table border=\"1\" class=\"dataframe\">\n",
              "  <thead>\n",
              "    <tr style=\"text-align: right;\">\n",
              "      <th></th>\n",
              "      <th>INSURANCE_Medicare</th>\n",
              "      <th>INSURANCE_Private</th>\n",
              "      <th>INSURANCE_Medicaid</th>\n",
              "      <th>INSURANCE_OTHERS</th>\n",
              "    </tr>\n",
              "  </thead>\n",
              "  <tbody>\n",
              "    <tr>\n",
              "      <th>0</th>\n",
              "      <td>0</td>\n",
              "      <td>1</td>\n",
              "      <td>0</td>\n",
              "      <td>0</td>\n",
              "    </tr>\n",
              "    <tr>\n",
              "      <th>1</th>\n",
              "      <td>0</td>\n",
              "      <td>1</td>\n",
              "      <td>0</td>\n",
              "      <td>0</td>\n",
              "    </tr>\n",
              "    <tr>\n",
              "      <th>2</th>\n",
              "      <td>0</td>\n",
              "      <td>1</td>\n",
              "      <td>0</td>\n",
              "      <td>0</td>\n",
              "    </tr>\n",
              "    <tr>\n",
              "      <th>3</th>\n",
              "      <td>0</td>\n",
              "      <td>1</td>\n",
              "      <td>0</td>\n",
              "      <td>0</td>\n",
              "    </tr>\n",
              "    <tr>\n",
              "      <th>4</th>\n",
              "      <td>0</td>\n",
              "      <td>1</td>\n",
              "      <td>0</td>\n",
              "      <td>0</td>\n",
              "    </tr>\n",
              "    <tr>\n",
              "      <th>...</th>\n",
              "      <td>...</td>\n",
              "      <td>...</td>\n",
              "      <td>...</td>\n",
              "      <td>...</td>\n",
              "    </tr>\n",
              "    <tr>\n",
              "      <th>60573</th>\n",
              "      <td>1</td>\n",
              "      <td>0</td>\n",
              "      <td>0</td>\n",
              "      <td>0</td>\n",
              "    </tr>\n",
              "    <tr>\n",
              "      <th>60574</th>\n",
              "      <td>1</td>\n",
              "      <td>0</td>\n",
              "      <td>0</td>\n",
              "      <td>0</td>\n",
              "    </tr>\n",
              "    <tr>\n",
              "      <th>60575</th>\n",
              "      <td>1</td>\n",
              "      <td>0</td>\n",
              "      <td>0</td>\n",
              "      <td>0</td>\n",
              "    </tr>\n",
              "    <tr>\n",
              "      <th>60576</th>\n",
              "      <td>1</td>\n",
              "      <td>0</td>\n",
              "      <td>0</td>\n",
              "      <td>0</td>\n",
              "    </tr>\n",
              "    <tr>\n",
              "      <th>60577</th>\n",
              "      <td>1</td>\n",
              "      <td>0</td>\n",
              "      <td>0</td>\n",
              "      <td>0</td>\n",
              "    </tr>\n",
              "  </tbody>\n",
              "</table>\n",
              "<p>60578 rows × 4 columns</p>\n",
              "</div>"
            ],
            "text/plain": [
              "       INSURANCE_Medicare  ...  INSURANCE_OTHERS\n",
              "0                       0  ...                 0\n",
              "1                       0  ...                 0\n",
              "2                       0  ...                 0\n",
              "3                       0  ...                 0\n",
              "4                       0  ...                 0\n",
              "...                   ...  ...               ...\n",
              "60573                   1  ...                 0\n",
              "60574                   1  ...                 0\n",
              "60575                   1  ...                 0\n",
              "60576                   1  ...                 0\n",
              "60577                   1  ...                 0\n",
              "\n",
              "[60578 rows x 4 columns]"
            ]
          },
          "metadata": {
            "tags": []
          },
          "execution_count": 476
        }
      ]
    },
    {
      "cell_type": "code",
      "metadata": {
        "colab": {
          "base_uri": "https://localhost:8080/",
          "height": 402
        },
        "id": "dRcLWpzY5z1I",
        "outputId": "c95512af-af84-4e7d-9320-581400e006c0"
      },
      "source": [
        "tmp_categories = list(df['RELIGION'].value_counts()[:3].keys()) + ['OTHERS'] \n",
        "\n",
        "tmp_categories_dtype = pd.CategoricalDtype(tmp_categories)\n",
        "\n",
        "tmp_RELIGION = df['RELIGION'].astype(tmp_categories_dtype).fillna('OTHERS') \n",
        "tmp_RELIGION = pd.get_dummies(tmp_RELIGION, prefix = 'RELIGION') \n",
        "\n",
        "df = pd.concat([df, tmp_RELIGION], axis = 1) \n",
        "\n",
        "tmp_RELIGION"
      ],
      "execution_count": 477,
      "outputs": [
        {
          "output_type": "execute_result",
          "data": {
            "text/html": [
              "<div>\n",
              "<style scoped>\n",
              "    .dataframe tbody tr th:only-of-type {\n",
              "        vertical-align: middle;\n",
              "    }\n",
              "\n",
              "    .dataframe tbody tr th {\n",
              "        vertical-align: top;\n",
              "    }\n",
              "\n",
              "    .dataframe thead th {\n",
              "        text-align: right;\n",
              "    }\n",
              "</style>\n",
              "<table border=\"1\" class=\"dataframe\">\n",
              "  <thead>\n",
              "    <tr style=\"text-align: right;\">\n",
              "      <th></th>\n",
              "      <th>RELIGION_CATHOLIC</th>\n",
              "      <th>RELIGION_PROTESTANT QUAKER</th>\n",
              "      <th>RELIGION_NOT SPECIFIED</th>\n",
              "      <th>RELIGION_OTHERS</th>\n",
              "    </tr>\n",
              "  </thead>\n",
              "  <tbody>\n",
              "    <tr>\n",
              "      <th>0</th>\n",
              "      <td>1</td>\n",
              "      <td>0</td>\n",
              "      <td>0</td>\n",
              "      <td>0</td>\n",
              "    </tr>\n",
              "    <tr>\n",
              "      <th>1</th>\n",
              "      <td>1</td>\n",
              "      <td>0</td>\n",
              "      <td>0</td>\n",
              "      <td>0</td>\n",
              "    </tr>\n",
              "    <tr>\n",
              "      <th>2</th>\n",
              "      <td>1</td>\n",
              "      <td>0</td>\n",
              "      <td>0</td>\n",
              "      <td>0</td>\n",
              "    </tr>\n",
              "    <tr>\n",
              "      <th>3</th>\n",
              "      <td>1</td>\n",
              "      <td>0</td>\n",
              "      <td>0</td>\n",
              "      <td>0</td>\n",
              "    </tr>\n",
              "    <tr>\n",
              "      <th>4</th>\n",
              "      <td>1</td>\n",
              "      <td>0</td>\n",
              "      <td>0</td>\n",
              "      <td>0</td>\n",
              "    </tr>\n",
              "    <tr>\n",
              "      <th>...</th>\n",
              "      <td>...</td>\n",
              "      <td>...</td>\n",
              "      <td>...</td>\n",
              "      <td>...</td>\n",
              "    </tr>\n",
              "    <tr>\n",
              "      <th>60573</th>\n",
              "      <td>1</td>\n",
              "      <td>0</td>\n",
              "      <td>0</td>\n",
              "      <td>0</td>\n",
              "    </tr>\n",
              "    <tr>\n",
              "      <th>60574</th>\n",
              "      <td>1</td>\n",
              "      <td>0</td>\n",
              "      <td>0</td>\n",
              "      <td>0</td>\n",
              "    </tr>\n",
              "    <tr>\n",
              "      <th>60575</th>\n",
              "      <td>1</td>\n",
              "      <td>0</td>\n",
              "      <td>0</td>\n",
              "      <td>0</td>\n",
              "    </tr>\n",
              "    <tr>\n",
              "      <th>60576</th>\n",
              "      <td>1</td>\n",
              "      <td>0</td>\n",
              "      <td>0</td>\n",
              "      <td>0</td>\n",
              "    </tr>\n",
              "    <tr>\n",
              "      <th>60577</th>\n",
              "      <td>1</td>\n",
              "      <td>0</td>\n",
              "      <td>0</td>\n",
              "      <td>0</td>\n",
              "    </tr>\n",
              "  </tbody>\n",
              "</table>\n",
              "<p>60578 rows × 4 columns</p>\n",
              "</div>"
            ],
            "text/plain": [
              "       RELIGION_CATHOLIC  ...  RELIGION_OTHERS\n",
              "0                      1  ...                0\n",
              "1                      1  ...                0\n",
              "2                      1  ...                0\n",
              "3                      1  ...                0\n",
              "4                      1  ...                0\n",
              "...                  ...  ...              ...\n",
              "60573                  1  ...                0\n",
              "60574                  1  ...                0\n",
              "60575                  1  ...                0\n",
              "60576                  1  ...                0\n",
              "60577                  1  ...                0\n",
              "\n",
              "[60578 rows x 4 columns]"
            ]
          },
          "metadata": {
            "tags": []
          },
          "execution_count": 477
        }
      ]
    },
    {
      "cell_type": "code",
      "metadata": {
        "colab": {
          "base_uri": "https://localhost:8080/",
          "height": 418
        },
        "id": "Gy21uteq01tN",
        "outputId": "59b67557-1f1e-45bf-ab0a-5b4071e633ad"
      },
      "source": [
        "tmp_ADMISSION_LOCATION = pd.get_dummies(df['ADMISSION_LOCATION'], prefix = 'ADMISSION_LOCATION')\n",
        "tmp_ADMISSION_LOCATION"
      ],
      "execution_count": 478,
      "outputs": [
        {
          "output_type": "execute_result",
          "data": {
            "text/html": [
              "<div>\n",
              "<style scoped>\n",
              "    .dataframe tbody tr th:only-of-type {\n",
              "        vertical-align: middle;\n",
              "    }\n",
              "\n",
              "    .dataframe tbody tr th {\n",
              "        vertical-align: top;\n",
              "    }\n",
              "\n",
              "    .dataframe thead th {\n",
              "        text-align: right;\n",
              "    }\n",
              "</style>\n",
              "<table border=\"1\" class=\"dataframe\">\n",
              "  <thead>\n",
              "    <tr style=\"text-align: right;\">\n",
              "      <th></th>\n",
              "      <th>ADMISSION_LOCATION_CLINIC REFERRAL/PREMATURE</th>\n",
              "      <th>ADMISSION_LOCATION_EMERGENCY ROOM ADMIT</th>\n",
              "      <th>ADMISSION_LOCATION_PHYS REFERRAL/NORMAL DELI</th>\n",
              "      <th>ADMISSION_LOCATION_TRANSFER FROM HOSP/EXTRAM</th>\n",
              "      <th>ADMISSION_LOCATION_TRANSFER FROM SKILLED NUR</th>\n",
              "    </tr>\n",
              "  </thead>\n",
              "  <tbody>\n",
              "    <tr>\n",
              "      <th>0</th>\n",
              "      <td>1</td>\n",
              "      <td>0</td>\n",
              "      <td>0</td>\n",
              "      <td>0</td>\n",
              "      <td>0</td>\n",
              "    </tr>\n",
              "    <tr>\n",
              "      <th>1</th>\n",
              "      <td>1</td>\n",
              "      <td>0</td>\n",
              "      <td>0</td>\n",
              "      <td>0</td>\n",
              "      <td>0</td>\n",
              "    </tr>\n",
              "    <tr>\n",
              "      <th>2</th>\n",
              "      <td>1</td>\n",
              "      <td>0</td>\n",
              "      <td>0</td>\n",
              "      <td>0</td>\n",
              "      <td>0</td>\n",
              "    </tr>\n",
              "    <tr>\n",
              "      <th>3</th>\n",
              "      <td>1</td>\n",
              "      <td>0</td>\n",
              "      <td>0</td>\n",
              "      <td>0</td>\n",
              "      <td>0</td>\n",
              "    </tr>\n",
              "    <tr>\n",
              "      <th>4</th>\n",
              "      <td>1</td>\n",
              "      <td>0</td>\n",
              "      <td>0</td>\n",
              "      <td>0</td>\n",
              "      <td>0</td>\n",
              "    </tr>\n",
              "    <tr>\n",
              "      <th>...</th>\n",
              "      <td>...</td>\n",
              "      <td>...</td>\n",
              "      <td>...</td>\n",
              "      <td>...</td>\n",
              "      <td>...</td>\n",
              "    </tr>\n",
              "    <tr>\n",
              "      <th>60573</th>\n",
              "      <td>1</td>\n",
              "      <td>0</td>\n",
              "      <td>0</td>\n",
              "      <td>0</td>\n",
              "      <td>0</td>\n",
              "    </tr>\n",
              "    <tr>\n",
              "      <th>60574</th>\n",
              "      <td>1</td>\n",
              "      <td>0</td>\n",
              "      <td>0</td>\n",
              "      <td>0</td>\n",
              "      <td>0</td>\n",
              "    </tr>\n",
              "    <tr>\n",
              "      <th>60575</th>\n",
              "      <td>1</td>\n",
              "      <td>0</td>\n",
              "      <td>0</td>\n",
              "      <td>0</td>\n",
              "      <td>0</td>\n",
              "    </tr>\n",
              "    <tr>\n",
              "      <th>60576</th>\n",
              "      <td>1</td>\n",
              "      <td>0</td>\n",
              "      <td>0</td>\n",
              "      <td>0</td>\n",
              "      <td>0</td>\n",
              "    </tr>\n",
              "    <tr>\n",
              "      <th>60577</th>\n",
              "      <td>1</td>\n",
              "      <td>0</td>\n",
              "      <td>0</td>\n",
              "      <td>0</td>\n",
              "      <td>0</td>\n",
              "    </tr>\n",
              "  </tbody>\n",
              "</table>\n",
              "<p>60578 rows × 5 columns</p>\n",
              "</div>"
            ],
            "text/plain": [
              "       ADMISSION_LOCATION_CLINIC REFERRAL/PREMATURE  ...  ADMISSION_LOCATION_TRANSFER FROM SKILLED NUR\n",
              "0                                                 1  ...                                             0\n",
              "1                                                 1  ...                                             0\n",
              "2                                                 1  ...                                             0\n",
              "3                                                 1  ...                                             0\n",
              "4                                                 1  ...                                             0\n",
              "...                                             ...  ...                                           ...\n",
              "60573                                             1  ...                                             0\n",
              "60574                                             1  ...                                             0\n",
              "60575                                             1  ...                                             0\n",
              "60576                                             1  ...                                             0\n",
              "60577                                             1  ...                                             0\n",
              "\n",
              "[60578 rows x 5 columns]"
            ]
          },
          "metadata": {
            "tags": []
          },
          "execution_count": 478
        }
      ]
    },
    {
      "cell_type": "code",
      "metadata": {
        "id": "66RkfibS1Hg_"
      },
      "source": [
        "df = pd.concat([df, tmp_ADMISSION_LOCATION], axis = 1) "
      ],
      "execution_count": 479,
      "outputs": []
    },
    {
      "cell_type": "code",
      "metadata": {
        "colab": {
          "base_uri": "https://localhost:8080/"
        },
        "id": "-U7UcKH_11uO",
        "outputId": "8c856436-9af3-4d91-9eb6-74589198626b"
      },
      "source": [
        "df['GENDER'].value_counts()"
      ],
      "execution_count": 480,
      "outputs": [
        {
          "output_type": "execute_result",
          "data": {
            "text/plain": [
              "M    44770\n",
              "F    15808\n",
              "Name: GENDER, dtype: int64"
            ]
          },
          "metadata": {
            "tags": []
          },
          "execution_count": 480
        }
      ]
    },
    {
      "cell_type": "code",
      "metadata": {
        "id": "xTAuwkUJ2C3Q"
      },
      "source": [
        "df['GENDER_F'] = (df['GENDER'] == 'F') * 1"
      ],
      "execution_count": 481,
      "outputs": []
    },
    {
      "cell_type": "code",
      "metadata": {
        "colab": {
          "base_uri": "https://localhost:8080/"
        },
        "id": "8TEc_fj82GrK",
        "outputId": "cf9a22c5-a874-4001-b9db-08852faf7f37"
      },
      "source": [
        "df['GENDER_F'].value_counts()"
      ],
      "execution_count": 482,
      "outputs": [
        {
          "output_type": "execute_result",
          "data": {
            "text/plain": [
              "0    44770\n",
              "1    15808\n",
              "Name: GENDER_F, dtype: int64"
            ]
          },
          "metadata": {
            "tags": []
          },
          "execution_count": 482
        }
      ]
    },
    {
      "cell_type": "code",
      "metadata": {
        "colab": {
          "base_uri": "https://localhost:8080/"
        },
        "id": "Y8Kh75mD0N5D",
        "outputId": "09698886-a3cc-4adb-ff53-84ce0acf4c2a"
      },
      "source": [
        "df.info()"
      ],
      "execution_count": 483,
      "outputs": [
        {
          "output_type": "stream",
          "text": [
            "<class 'pandas.core.frame.DataFrame'>\n",
            "RangeIndex: 60578 entries, 0 to 60577\n",
            "Data columns (total 37 columns):\n",
            " #   Column                                        Non-Null Count  Dtype         \n",
            "---  ------                                        --------------  -----         \n",
            " 0   ROW_ID                                        60578 non-null  int64         \n",
            " 1   SUBJECT_ID                                    60578 non-null  int64         \n",
            " 2   GENDER                                        60578 non-null  object        \n",
            " 3   DOB                                           60578 non-null  datetime64[ns]\n",
            " 4   HADM_ID                                       60578 non-null  int64         \n",
            " 5   PATIENTWEIGHT                                 60578 non-null  float64       \n",
            " 6   DIAGNOSIS                                     60578 non-null  object        \n",
            " 7   ADMITTIME                                     60578 non-null  datetime64[ns]\n",
            " 8   DISCHTIME                                     60578 non-null  datetime64[ns]\n",
            " 9   ADMISSION_LOCATION                            60578 non-null  object        \n",
            " 10  DEATHTIME                                     60578 non-null  object        \n",
            " 11  DISCHARGE_LOCATION                            60578 non-null  object        \n",
            " 12  INSURANCE                                     60578 non-null  object        \n",
            " 13  RELIGION                                      60578 non-null  object        \n",
            " 14  MARITAL_STATUS                                58859 non-null  object        \n",
            " 15  ETHNICITY                                     60578 non-null  object        \n",
            " 16  EDOUTTIME                                     54384 non-null  datetime64[ns]\n",
            " 17  AGE                                           60578 non-null  int64         \n",
            " 18  ACTIVE PATIENT                                60578 non-null  int64         \n",
            " 19  DIAGNOSIS_CARDIAC ARREST                      60578 non-null  uint8         \n",
            " 20  DIAGNOSIS_CHEST PAIN                          60578 non-null  uint8         \n",
            " 21  DIAGNOSIS_MYOCARDIAL INFARCTION               60578 non-null  uint8         \n",
            " 22  DIAGNOSIS_STROKE                              60578 non-null  uint8         \n",
            " 23  INSURANCE_Medicare                            60578 non-null  uint8         \n",
            " 24  INSURANCE_Private                             60578 non-null  uint8         \n",
            " 25  INSURANCE_Medicaid                            60578 non-null  uint8         \n",
            " 26  INSURANCE_OTHERS                              60578 non-null  uint8         \n",
            " 27  RELIGION_CATHOLIC                             60578 non-null  uint8         \n",
            " 28  RELIGION_PROTESTANT QUAKER                    60578 non-null  uint8         \n",
            " 29  RELIGION_NOT SPECIFIED                        60578 non-null  uint8         \n",
            " 30  RELIGION_OTHERS                               60578 non-null  uint8         \n",
            " 31  ADMISSION_LOCATION_CLINIC REFERRAL/PREMATURE  60578 non-null  uint8         \n",
            " 32  ADMISSION_LOCATION_EMERGENCY ROOM ADMIT       60578 non-null  uint8         \n",
            " 33  ADMISSION_LOCATION_PHYS REFERRAL/NORMAL DELI  60578 non-null  uint8         \n",
            " 34  ADMISSION_LOCATION_TRANSFER FROM HOSP/EXTRAM  60578 non-null  uint8         \n",
            " 35  ADMISSION_LOCATION_TRANSFER FROM SKILLED NUR  60578 non-null  uint8         \n",
            " 36  GENDER_F                                      60578 non-null  int64         \n",
            "dtypes: datetime64[ns](4), float64(1), int64(6), object(9), uint8(17)\n",
            "memory usage: 10.2+ MB\n"
          ],
          "name": "stdout"
        }
      ]
    },
    {
      "cell_type": "code",
      "metadata": {
        "colab": {
          "base_uri": "https://localhost:8080/",
          "height": 402
        },
        "id": "pJG_5Djb6kzz",
        "outputId": "be3920bc-751e-4fcc-9af5-e463a3f3f732"
      },
      "source": [
        "tmp_categories = list(df['DISCHARGE_LOCATION'].value_counts()[:3].keys()) + ['OTHERS']\n",
        "\n",
        "tmp_categories_dtype = pd.CategoricalDtype(tmp_categories)\n",
        "\n",
        "tmp_DISCHARGE_LOCATION = df['DISCHARGE_LOCATION'].astype(tmp_categories_dtype).fillna('OTHERS')\n",
        "tmp_DISCHARGE_LOCATION = pd.get_dummies(tmp_DISCHARGE_LOCATION, prefix = 'DISCHARGE_LOCATION') \n",
        "\n",
        "df = pd.concat([df, tmp_DISCHARGE_LOCATION], axis = 1) \n",
        "\n",
        "tmp_DISCHARGE_LOCATION"
      ],
      "execution_count": 484,
      "outputs": [
        {
          "output_type": "execute_result",
          "data": {
            "text/html": [
              "<div>\n",
              "<style scoped>\n",
              "    .dataframe tbody tr th:only-of-type {\n",
              "        vertical-align: middle;\n",
              "    }\n",
              "\n",
              "    .dataframe tbody tr th {\n",
              "        vertical-align: top;\n",
              "    }\n",
              "\n",
              "    .dataframe thead th {\n",
              "        text-align: right;\n",
              "    }\n",
              "</style>\n",
              "<table border=\"1\" class=\"dataframe\">\n",
              "  <thead>\n",
              "    <tr style=\"text-align: right;\">\n",
              "      <th></th>\n",
              "      <th>DISCHARGE_LOCATION_HOME HEALTH CARE</th>\n",
              "      <th>DISCHARGE_LOCATION_HOME</th>\n",
              "      <th>DISCHARGE_LOCATION_DEAD/EXPIRED</th>\n",
              "      <th>DISCHARGE_LOCATION_OTHERS</th>\n",
              "    </tr>\n",
              "  </thead>\n",
              "  <tbody>\n",
              "    <tr>\n",
              "      <th>0</th>\n",
              "      <td>0</td>\n",
              "      <td>0</td>\n",
              "      <td>0</td>\n",
              "      <td>1</td>\n",
              "    </tr>\n",
              "    <tr>\n",
              "      <th>1</th>\n",
              "      <td>0</td>\n",
              "      <td>0</td>\n",
              "      <td>0</td>\n",
              "      <td>1</td>\n",
              "    </tr>\n",
              "    <tr>\n",
              "      <th>2</th>\n",
              "      <td>0</td>\n",
              "      <td>0</td>\n",
              "      <td>0</td>\n",
              "      <td>1</td>\n",
              "    </tr>\n",
              "    <tr>\n",
              "      <th>3</th>\n",
              "      <td>0</td>\n",
              "      <td>0</td>\n",
              "      <td>0</td>\n",
              "      <td>1</td>\n",
              "    </tr>\n",
              "    <tr>\n",
              "      <th>4</th>\n",
              "      <td>0</td>\n",
              "      <td>0</td>\n",
              "      <td>0</td>\n",
              "      <td>1</td>\n",
              "    </tr>\n",
              "    <tr>\n",
              "      <th>...</th>\n",
              "      <td>...</td>\n",
              "      <td>...</td>\n",
              "      <td>...</td>\n",
              "      <td>...</td>\n",
              "    </tr>\n",
              "    <tr>\n",
              "      <th>60573</th>\n",
              "      <td>0</td>\n",
              "      <td>1</td>\n",
              "      <td>0</td>\n",
              "      <td>0</td>\n",
              "    </tr>\n",
              "    <tr>\n",
              "      <th>60574</th>\n",
              "      <td>0</td>\n",
              "      <td>1</td>\n",
              "      <td>0</td>\n",
              "      <td>0</td>\n",
              "    </tr>\n",
              "    <tr>\n",
              "      <th>60575</th>\n",
              "      <td>0</td>\n",
              "      <td>1</td>\n",
              "      <td>0</td>\n",
              "      <td>0</td>\n",
              "    </tr>\n",
              "    <tr>\n",
              "      <th>60576</th>\n",
              "      <td>0</td>\n",
              "      <td>1</td>\n",
              "      <td>0</td>\n",
              "      <td>0</td>\n",
              "    </tr>\n",
              "    <tr>\n",
              "      <th>60577</th>\n",
              "      <td>0</td>\n",
              "      <td>1</td>\n",
              "      <td>0</td>\n",
              "      <td>0</td>\n",
              "    </tr>\n",
              "  </tbody>\n",
              "</table>\n",
              "<p>60578 rows × 4 columns</p>\n",
              "</div>"
            ],
            "text/plain": [
              "       DISCHARGE_LOCATION_HOME HEALTH CARE  ...  DISCHARGE_LOCATION_OTHERS\n",
              "0                                        0  ...                          1\n",
              "1                                        0  ...                          1\n",
              "2                                        0  ...                          1\n",
              "3                                        0  ...                          1\n",
              "4                                        0  ...                          1\n",
              "...                                    ...  ...                        ...\n",
              "60573                                    0  ...                          0\n",
              "60574                                    0  ...                          0\n",
              "60575                                    0  ...                          0\n",
              "60576                                    0  ...                          0\n",
              "60577                                    0  ...                          0\n",
              "\n",
              "[60578 rows x 4 columns]"
            ]
          },
          "metadata": {
            "tags": []
          },
          "execution_count": 484
        }
      ]
    },
    {
      "cell_type": "code",
      "metadata": {
        "colab": {
          "base_uri": "https://localhost:8080/",
          "height": 402
        },
        "id": "tuIeP23q2jaV",
        "outputId": "a85eb450-a45a-4783-9f84-94846aa119dc"
      },
      "source": [
        "tmp_categories = list(df['ETHNICITY'].value_counts()[:3].keys()) + ['OTHERS']\n",
        "\n",
        "tmp_categories_dtype = pd.CategoricalDtype(tmp_categories)\n",
        "\n",
        "tmp_ETHNICITY = df['ETHNICITY'].astype(tmp_categories_dtype).fillna('OTHERS')\n",
        "tmp_ETHNICITY = pd.get_dummies(tmp_ETHNICITY, prefix = 'ETHNICITY') \n",
        "\n",
        "df = pd.concat([df, tmp_ETHNICITY], axis = 1) \n",
        "\n",
        "tmp_ETHNICITY"
      ],
      "execution_count": 485,
      "outputs": [
        {
          "output_type": "execute_result",
          "data": {
            "text/html": [
              "<div>\n",
              "<style scoped>\n",
              "    .dataframe tbody tr th:only-of-type {\n",
              "        vertical-align: middle;\n",
              "    }\n",
              "\n",
              "    .dataframe tbody tr th {\n",
              "        vertical-align: top;\n",
              "    }\n",
              "\n",
              "    .dataframe thead th {\n",
              "        text-align: right;\n",
              "    }\n",
              "</style>\n",
              "<table border=\"1\" class=\"dataframe\">\n",
              "  <thead>\n",
              "    <tr style=\"text-align: right;\">\n",
              "      <th></th>\n",
              "      <th>ETHNICITY_WHITE</th>\n",
              "      <th>ETHNICITY_BLACK/AFRICAN AMERICAN</th>\n",
              "      <th>ETHNICITY_OTHER</th>\n",
              "      <th>ETHNICITY_OTHERS</th>\n",
              "    </tr>\n",
              "  </thead>\n",
              "  <tbody>\n",
              "    <tr>\n",
              "      <th>0</th>\n",
              "      <td>1</td>\n",
              "      <td>0</td>\n",
              "      <td>0</td>\n",
              "      <td>0</td>\n",
              "    </tr>\n",
              "    <tr>\n",
              "      <th>1</th>\n",
              "      <td>1</td>\n",
              "      <td>0</td>\n",
              "      <td>0</td>\n",
              "      <td>0</td>\n",
              "    </tr>\n",
              "    <tr>\n",
              "      <th>2</th>\n",
              "      <td>1</td>\n",
              "      <td>0</td>\n",
              "      <td>0</td>\n",
              "      <td>0</td>\n",
              "    </tr>\n",
              "    <tr>\n",
              "      <th>3</th>\n",
              "      <td>1</td>\n",
              "      <td>0</td>\n",
              "      <td>0</td>\n",
              "      <td>0</td>\n",
              "    </tr>\n",
              "    <tr>\n",
              "      <th>4</th>\n",
              "      <td>1</td>\n",
              "      <td>0</td>\n",
              "      <td>0</td>\n",
              "      <td>0</td>\n",
              "    </tr>\n",
              "    <tr>\n",
              "      <th>...</th>\n",
              "      <td>...</td>\n",
              "      <td>...</td>\n",
              "      <td>...</td>\n",
              "      <td>...</td>\n",
              "    </tr>\n",
              "    <tr>\n",
              "      <th>60573</th>\n",
              "      <td>1</td>\n",
              "      <td>0</td>\n",
              "      <td>0</td>\n",
              "      <td>0</td>\n",
              "    </tr>\n",
              "    <tr>\n",
              "      <th>60574</th>\n",
              "      <td>1</td>\n",
              "      <td>0</td>\n",
              "      <td>0</td>\n",
              "      <td>0</td>\n",
              "    </tr>\n",
              "    <tr>\n",
              "      <th>60575</th>\n",
              "      <td>1</td>\n",
              "      <td>0</td>\n",
              "      <td>0</td>\n",
              "      <td>0</td>\n",
              "    </tr>\n",
              "    <tr>\n",
              "      <th>60576</th>\n",
              "      <td>1</td>\n",
              "      <td>0</td>\n",
              "      <td>0</td>\n",
              "      <td>0</td>\n",
              "    </tr>\n",
              "    <tr>\n",
              "      <th>60577</th>\n",
              "      <td>1</td>\n",
              "      <td>0</td>\n",
              "      <td>0</td>\n",
              "      <td>0</td>\n",
              "    </tr>\n",
              "  </tbody>\n",
              "</table>\n",
              "<p>60578 rows × 4 columns</p>\n",
              "</div>"
            ],
            "text/plain": [
              "       ETHNICITY_WHITE  ...  ETHNICITY_OTHERS\n",
              "0                    1  ...                 0\n",
              "1                    1  ...                 0\n",
              "2                    1  ...                 0\n",
              "3                    1  ...                 0\n",
              "4                    1  ...                 0\n",
              "...                ...  ...               ...\n",
              "60573                1  ...                 0\n",
              "60574                1  ...                 0\n",
              "60575                1  ...                 0\n",
              "60576                1  ...                 0\n",
              "60577                1  ...                 0\n",
              "\n",
              "[60578 rows x 4 columns]"
            ]
          },
          "metadata": {
            "tags": []
          },
          "execution_count": 485
        }
      ]
    },
    {
      "cell_type": "code",
      "metadata": {
        "colab": {
          "base_uri": "https://localhost:8080/"
        },
        "id": "4qq6U2e2nsSj",
        "outputId": "44d94be3-9901-4c4c-e0eb-f4c66924a356"
      },
      "source": [
        "from google.colab import drive \n",
        "drive.mount('/content/gdrive', force_remount = True)\n",
        "\n",
        "gdrive_rootpath = '/content/gdrive/MyDrive/'"
      ],
      "execution_count": 486,
      "outputs": [
        {
          "output_type": "stream",
          "text": [
            "Mounted at /content/gdrive\n"
          ],
          "name": "stdout"
        }
      ]
    },
    {
      "cell_type": "code",
      "metadata": {
        "id": "vI-Ye2CkoBN4"
      },
      "source": [
        "df.to_csv(gdrive_rootpath + 'Promise Onu_pg835011_Digital Health and Data Analytics_clean.csv', index = False)"
      ],
      "execution_count": 487,
      "outputs": []
    },
    {
      "cell_type": "code",
      "metadata": {
        "colab": {
          "base_uri": "https://localhost:8080/",
          "height": 774
        },
        "id": "32T_MHfQo2iQ",
        "outputId": "d3857a95-ddfb-4060-ec0e-6d54f22e62f6"
      },
      "source": [
        "pd.read_csv(gdrive_rootpath + 'Promise Onu_pg835011_Digital Health and Data Analytics_clean.csv')"
      ],
      "execution_count": 488,
      "outputs": [
        {
          "output_type": "execute_result",
          "data": {
            "text/html": [
              "<div>\n",
              "<style scoped>\n",
              "    .dataframe tbody tr th:only-of-type {\n",
              "        vertical-align: middle;\n",
              "    }\n",
              "\n",
              "    .dataframe tbody tr th {\n",
              "        vertical-align: top;\n",
              "    }\n",
              "\n",
              "    .dataframe thead th {\n",
              "        text-align: right;\n",
              "    }\n",
              "</style>\n",
              "<table border=\"1\" class=\"dataframe\">\n",
              "  <thead>\n",
              "    <tr style=\"text-align: right;\">\n",
              "      <th></th>\n",
              "      <th>ROW_ID</th>\n",
              "      <th>SUBJECT_ID</th>\n",
              "      <th>GENDER</th>\n",
              "      <th>DOB</th>\n",
              "      <th>HADM_ID</th>\n",
              "      <th>PATIENTWEIGHT</th>\n",
              "      <th>DIAGNOSIS</th>\n",
              "      <th>ADMITTIME</th>\n",
              "      <th>DISCHTIME</th>\n",
              "      <th>ADMISSION_LOCATION</th>\n",
              "      <th>DEATHTIME</th>\n",
              "      <th>DISCHARGE_LOCATION</th>\n",
              "      <th>INSURANCE</th>\n",
              "      <th>RELIGION</th>\n",
              "      <th>MARITAL_STATUS</th>\n",
              "      <th>ETHNICITY</th>\n",
              "      <th>EDOUTTIME</th>\n",
              "      <th>AGE</th>\n",
              "      <th>ACTIVE PATIENT</th>\n",
              "      <th>DIAGNOSIS_CARDIAC ARREST</th>\n",
              "      <th>DIAGNOSIS_CHEST PAIN</th>\n",
              "      <th>DIAGNOSIS_MYOCARDIAL INFARCTION</th>\n",
              "      <th>DIAGNOSIS_STROKE</th>\n",
              "      <th>INSURANCE_Medicare</th>\n",
              "      <th>INSURANCE_Private</th>\n",
              "      <th>INSURANCE_Medicaid</th>\n",
              "      <th>INSURANCE_OTHERS</th>\n",
              "      <th>RELIGION_CATHOLIC</th>\n",
              "      <th>RELIGION_PROTESTANT QUAKER</th>\n",
              "      <th>RELIGION_NOT SPECIFIED</th>\n",
              "      <th>RELIGION_OTHERS</th>\n",
              "      <th>ADMISSION_LOCATION_CLINIC REFERRAL/PREMATURE</th>\n",
              "      <th>ADMISSION_LOCATION_EMERGENCY ROOM ADMIT</th>\n",
              "      <th>ADMISSION_LOCATION_PHYS REFERRAL/NORMAL DELI</th>\n",
              "      <th>ADMISSION_LOCATION_TRANSFER FROM HOSP/EXTRAM</th>\n",
              "      <th>ADMISSION_LOCATION_TRANSFER FROM SKILLED NUR</th>\n",
              "      <th>GENDER_F</th>\n",
              "      <th>DISCHARGE_LOCATION_HOME HEALTH CARE</th>\n",
              "      <th>DISCHARGE_LOCATION_HOME</th>\n",
              "      <th>DISCHARGE_LOCATION_DEAD/EXPIRED</th>\n",
              "      <th>DISCHARGE_LOCATION_OTHERS</th>\n",
              "      <th>ETHNICITY_WHITE</th>\n",
              "      <th>ETHNICITY_BLACK/AFRICAN AMERICAN</th>\n",
              "      <th>ETHNICITY_OTHER</th>\n",
              "      <th>ETHNICITY_OTHERS</th>\n",
              "    </tr>\n",
              "  </thead>\n",
              "  <tbody>\n",
              "    <tr>\n",
              "      <th>0</th>\n",
              "      <td>1997208</td>\n",
              "      <td>74821</td>\n",
              "      <td>M</td>\n",
              "      <td>2108-04-25</td>\n",
              "      <td>146804</td>\n",
              "      <td>1370.0</td>\n",
              "      <td>CHEST PAIN</td>\n",
              "      <td>2141-09-29 15:25:00</td>\n",
              "      <td>2141-10-04 10:30:00</td>\n",
              "      <td>CLINIC REFERRAL/PREMATURE</td>\n",
              "      <td>ACTIVE</td>\n",
              "      <td>REHAB/DISTINCT PART HOSP</td>\n",
              "      <td>Private</td>\n",
              "      <td>CATHOLIC</td>\n",
              "      <td>MARRIED</td>\n",
              "      <td>WHITE</td>\n",
              "      <td>2141-09-29 16:32:00</td>\n",
              "      <td>33</td>\n",
              "      <td>1</td>\n",
              "      <td>0</td>\n",
              "      <td>1</td>\n",
              "      <td>0</td>\n",
              "      <td>0</td>\n",
              "      <td>0</td>\n",
              "      <td>1</td>\n",
              "      <td>0</td>\n",
              "      <td>0</td>\n",
              "      <td>1</td>\n",
              "      <td>0</td>\n",
              "      <td>0</td>\n",
              "      <td>0</td>\n",
              "      <td>1</td>\n",
              "      <td>0</td>\n",
              "      <td>0</td>\n",
              "      <td>0</td>\n",
              "      <td>0</td>\n",
              "      <td>0</td>\n",
              "      <td>0</td>\n",
              "      <td>0</td>\n",
              "      <td>0</td>\n",
              "      <td>1</td>\n",
              "      <td>1</td>\n",
              "      <td>0</td>\n",
              "      <td>0</td>\n",
              "      <td>0</td>\n",
              "    </tr>\n",
              "    <tr>\n",
              "      <th>1</th>\n",
              "      <td>1997215</td>\n",
              "      <td>74821</td>\n",
              "      <td>M</td>\n",
              "      <td>2108-04-25</td>\n",
              "      <td>146804</td>\n",
              "      <td>1370.0</td>\n",
              "      <td>CHEST PAIN</td>\n",
              "      <td>2141-09-29 15:25:00</td>\n",
              "      <td>2141-10-04 10:30:00</td>\n",
              "      <td>CLINIC REFERRAL/PREMATURE</td>\n",
              "      <td>ACTIVE</td>\n",
              "      <td>REHAB/DISTINCT PART HOSP</td>\n",
              "      <td>Private</td>\n",
              "      <td>CATHOLIC</td>\n",
              "      <td>MARRIED</td>\n",
              "      <td>WHITE</td>\n",
              "      <td>2141-09-29 16:32:00</td>\n",
              "      <td>33</td>\n",
              "      <td>1</td>\n",
              "      <td>0</td>\n",
              "      <td>1</td>\n",
              "      <td>0</td>\n",
              "      <td>0</td>\n",
              "      <td>0</td>\n",
              "      <td>1</td>\n",
              "      <td>0</td>\n",
              "      <td>0</td>\n",
              "      <td>1</td>\n",
              "      <td>0</td>\n",
              "      <td>0</td>\n",
              "      <td>0</td>\n",
              "      <td>1</td>\n",
              "      <td>0</td>\n",
              "      <td>0</td>\n",
              "      <td>0</td>\n",
              "      <td>0</td>\n",
              "      <td>0</td>\n",
              "      <td>0</td>\n",
              "      <td>0</td>\n",
              "      <td>0</td>\n",
              "      <td>1</td>\n",
              "      <td>1</td>\n",
              "      <td>0</td>\n",
              "      <td>0</td>\n",
              "      <td>0</td>\n",
              "    </tr>\n",
              "    <tr>\n",
              "      <th>2</th>\n",
              "      <td>1997213</td>\n",
              "      <td>74821</td>\n",
              "      <td>M</td>\n",
              "      <td>2108-04-25</td>\n",
              "      <td>146804</td>\n",
              "      <td>1370.0</td>\n",
              "      <td>CHEST PAIN</td>\n",
              "      <td>2141-09-29 15:25:00</td>\n",
              "      <td>2141-10-04 10:30:00</td>\n",
              "      <td>CLINIC REFERRAL/PREMATURE</td>\n",
              "      <td>ACTIVE</td>\n",
              "      <td>REHAB/DISTINCT PART HOSP</td>\n",
              "      <td>Private</td>\n",
              "      <td>CATHOLIC</td>\n",
              "      <td>MARRIED</td>\n",
              "      <td>WHITE</td>\n",
              "      <td>2141-09-29 16:32:00</td>\n",
              "      <td>33</td>\n",
              "      <td>1</td>\n",
              "      <td>0</td>\n",
              "      <td>1</td>\n",
              "      <td>0</td>\n",
              "      <td>0</td>\n",
              "      <td>0</td>\n",
              "      <td>1</td>\n",
              "      <td>0</td>\n",
              "      <td>0</td>\n",
              "      <td>1</td>\n",
              "      <td>0</td>\n",
              "      <td>0</td>\n",
              "      <td>0</td>\n",
              "      <td>1</td>\n",
              "      <td>0</td>\n",
              "      <td>0</td>\n",
              "      <td>0</td>\n",
              "      <td>0</td>\n",
              "      <td>0</td>\n",
              "      <td>0</td>\n",
              "      <td>0</td>\n",
              "      <td>0</td>\n",
              "      <td>1</td>\n",
              "      <td>1</td>\n",
              "      <td>0</td>\n",
              "      <td>0</td>\n",
              "      <td>0</td>\n",
              "    </tr>\n",
              "    <tr>\n",
              "      <th>3</th>\n",
              "      <td>1997209</td>\n",
              "      <td>74821</td>\n",
              "      <td>M</td>\n",
              "      <td>2108-04-25</td>\n",
              "      <td>146804</td>\n",
              "      <td>1370.0</td>\n",
              "      <td>CHEST PAIN</td>\n",
              "      <td>2141-09-29 15:25:00</td>\n",
              "      <td>2141-10-04 10:30:00</td>\n",
              "      <td>CLINIC REFERRAL/PREMATURE</td>\n",
              "      <td>ACTIVE</td>\n",
              "      <td>REHAB/DISTINCT PART HOSP</td>\n",
              "      <td>Private</td>\n",
              "      <td>CATHOLIC</td>\n",
              "      <td>MARRIED</td>\n",
              "      <td>WHITE</td>\n",
              "      <td>2141-09-29 16:32:00</td>\n",
              "      <td>33</td>\n",
              "      <td>1</td>\n",
              "      <td>0</td>\n",
              "      <td>1</td>\n",
              "      <td>0</td>\n",
              "      <td>0</td>\n",
              "      <td>0</td>\n",
              "      <td>1</td>\n",
              "      <td>0</td>\n",
              "      <td>0</td>\n",
              "      <td>1</td>\n",
              "      <td>0</td>\n",
              "      <td>0</td>\n",
              "      <td>0</td>\n",
              "      <td>1</td>\n",
              "      <td>0</td>\n",
              "      <td>0</td>\n",
              "      <td>0</td>\n",
              "      <td>0</td>\n",
              "      <td>0</td>\n",
              "      <td>0</td>\n",
              "      <td>0</td>\n",
              "      <td>0</td>\n",
              "      <td>1</td>\n",
              "      <td>1</td>\n",
              "      <td>0</td>\n",
              "      <td>0</td>\n",
              "      <td>0</td>\n",
              "    </tr>\n",
              "    <tr>\n",
              "      <th>4</th>\n",
              "      <td>1997212</td>\n",
              "      <td>74821</td>\n",
              "      <td>M</td>\n",
              "      <td>2108-04-25</td>\n",
              "      <td>146804</td>\n",
              "      <td>1370.0</td>\n",
              "      <td>CHEST PAIN</td>\n",
              "      <td>2141-09-29 15:25:00</td>\n",
              "      <td>2141-10-04 10:30:00</td>\n",
              "      <td>CLINIC REFERRAL/PREMATURE</td>\n",
              "      <td>ACTIVE</td>\n",
              "      <td>REHAB/DISTINCT PART HOSP</td>\n",
              "      <td>Private</td>\n",
              "      <td>CATHOLIC</td>\n",
              "      <td>MARRIED</td>\n",
              "      <td>WHITE</td>\n",
              "      <td>2141-09-29 16:32:00</td>\n",
              "      <td>33</td>\n",
              "      <td>1</td>\n",
              "      <td>0</td>\n",
              "      <td>1</td>\n",
              "      <td>0</td>\n",
              "      <td>0</td>\n",
              "      <td>0</td>\n",
              "      <td>1</td>\n",
              "      <td>0</td>\n",
              "      <td>0</td>\n",
              "      <td>1</td>\n",
              "      <td>0</td>\n",
              "      <td>0</td>\n",
              "      <td>0</td>\n",
              "      <td>1</td>\n",
              "      <td>0</td>\n",
              "      <td>0</td>\n",
              "      <td>0</td>\n",
              "      <td>0</td>\n",
              "      <td>0</td>\n",
              "      <td>0</td>\n",
              "      <td>0</td>\n",
              "      <td>0</td>\n",
              "      <td>1</td>\n",
              "      <td>1</td>\n",
              "      <td>0</td>\n",
              "      <td>0</td>\n",
              "      <td>0</td>\n",
              "    </tr>\n",
              "    <tr>\n",
              "      <th>...</th>\n",
              "      <td>...</td>\n",
              "      <td>...</td>\n",
              "      <td>...</td>\n",
              "      <td>...</td>\n",
              "      <td>...</td>\n",
              "      <td>...</td>\n",
              "      <td>...</td>\n",
              "      <td>...</td>\n",
              "      <td>...</td>\n",
              "      <td>...</td>\n",
              "      <td>...</td>\n",
              "      <td>...</td>\n",
              "      <td>...</td>\n",
              "      <td>...</td>\n",
              "      <td>...</td>\n",
              "      <td>...</td>\n",
              "      <td>...</td>\n",
              "      <td>...</td>\n",
              "      <td>...</td>\n",
              "      <td>...</td>\n",
              "      <td>...</td>\n",
              "      <td>...</td>\n",
              "      <td>...</td>\n",
              "      <td>...</td>\n",
              "      <td>...</td>\n",
              "      <td>...</td>\n",
              "      <td>...</td>\n",
              "      <td>...</td>\n",
              "      <td>...</td>\n",
              "      <td>...</td>\n",
              "      <td>...</td>\n",
              "      <td>...</td>\n",
              "      <td>...</td>\n",
              "      <td>...</td>\n",
              "      <td>...</td>\n",
              "      <td>...</td>\n",
              "      <td>...</td>\n",
              "      <td>...</td>\n",
              "      <td>...</td>\n",
              "      <td>...</td>\n",
              "      <td>...</td>\n",
              "      <td>...</td>\n",
              "      <td>...</td>\n",
              "      <td>...</td>\n",
              "      <td>...</td>\n",
              "    </tr>\n",
              "    <tr>\n",
              "      <th>60573</th>\n",
              "      <td>3334970</td>\n",
              "      <td>50976</td>\n",
              "      <td>M</td>\n",
              "      <td>2034-06-29</td>\n",
              "      <td>142575</td>\n",
              "      <td>83.8</td>\n",
              "      <td>CHEST PAIN</td>\n",
              "      <td>2114-10-24 13:31:00</td>\n",
              "      <td>2114-10-26 16:29:00</td>\n",
              "      <td>CLINIC REFERRAL/PREMATURE</td>\n",
              "      <td>ACTIVE</td>\n",
              "      <td>HOME</td>\n",
              "      <td>Medicare</td>\n",
              "      <td>CATHOLIC</td>\n",
              "      <td>SINGLE</td>\n",
              "      <td>WHITE</td>\n",
              "      <td>2114-10-24 13:57:00</td>\n",
              "      <td>80</td>\n",
              "      <td>1</td>\n",
              "      <td>0</td>\n",
              "      <td>1</td>\n",
              "      <td>0</td>\n",
              "      <td>0</td>\n",
              "      <td>1</td>\n",
              "      <td>0</td>\n",
              "      <td>0</td>\n",
              "      <td>0</td>\n",
              "      <td>1</td>\n",
              "      <td>0</td>\n",
              "      <td>0</td>\n",
              "      <td>0</td>\n",
              "      <td>1</td>\n",
              "      <td>0</td>\n",
              "      <td>0</td>\n",
              "      <td>0</td>\n",
              "      <td>0</td>\n",
              "      <td>0</td>\n",
              "      <td>0</td>\n",
              "      <td>1</td>\n",
              "      <td>0</td>\n",
              "      <td>0</td>\n",
              "      <td>1</td>\n",
              "      <td>0</td>\n",
              "      <td>0</td>\n",
              "      <td>0</td>\n",
              "    </tr>\n",
              "    <tr>\n",
              "      <th>60574</th>\n",
              "      <td>3334780</td>\n",
              "      <td>50976</td>\n",
              "      <td>M</td>\n",
              "      <td>2034-06-29</td>\n",
              "      <td>142575</td>\n",
              "      <td>83.8</td>\n",
              "      <td>CHEST PAIN</td>\n",
              "      <td>2114-10-24 13:31:00</td>\n",
              "      <td>2114-10-26 16:29:00</td>\n",
              "      <td>CLINIC REFERRAL/PREMATURE</td>\n",
              "      <td>ACTIVE</td>\n",
              "      <td>HOME</td>\n",
              "      <td>Medicare</td>\n",
              "      <td>CATHOLIC</td>\n",
              "      <td>SINGLE</td>\n",
              "      <td>WHITE</td>\n",
              "      <td>2114-10-24 13:57:00</td>\n",
              "      <td>80</td>\n",
              "      <td>1</td>\n",
              "      <td>0</td>\n",
              "      <td>1</td>\n",
              "      <td>0</td>\n",
              "      <td>0</td>\n",
              "      <td>1</td>\n",
              "      <td>0</td>\n",
              "      <td>0</td>\n",
              "      <td>0</td>\n",
              "      <td>1</td>\n",
              "      <td>0</td>\n",
              "      <td>0</td>\n",
              "      <td>0</td>\n",
              "      <td>1</td>\n",
              "      <td>0</td>\n",
              "      <td>0</td>\n",
              "      <td>0</td>\n",
              "      <td>0</td>\n",
              "      <td>0</td>\n",
              "      <td>0</td>\n",
              "      <td>1</td>\n",
              "      <td>0</td>\n",
              "      <td>0</td>\n",
              "      <td>1</td>\n",
              "      <td>0</td>\n",
              "      <td>0</td>\n",
              "      <td>0</td>\n",
              "    </tr>\n",
              "    <tr>\n",
              "      <th>60575</th>\n",
              "      <td>3334965</td>\n",
              "      <td>50976</td>\n",
              "      <td>M</td>\n",
              "      <td>2034-06-29</td>\n",
              "      <td>142575</td>\n",
              "      <td>83.8</td>\n",
              "      <td>CHEST PAIN</td>\n",
              "      <td>2114-10-24 13:31:00</td>\n",
              "      <td>2114-10-26 16:29:00</td>\n",
              "      <td>CLINIC REFERRAL/PREMATURE</td>\n",
              "      <td>ACTIVE</td>\n",
              "      <td>HOME</td>\n",
              "      <td>Medicare</td>\n",
              "      <td>CATHOLIC</td>\n",
              "      <td>SINGLE</td>\n",
              "      <td>WHITE</td>\n",
              "      <td>2114-10-24 13:57:00</td>\n",
              "      <td>80</td>\n",
              "      <td>1</td>\n",
              "      <td>0</td>\n",
              "      <td>1</td>\n",
              "      <td>0</td>\n",
              "      <td>0</td>\n",
              "      <td>1</td>\n",
              "      <td>0</td>\n",
              "      <td>0</td>\n",
              "      <td>0</td>\n",
              "      <td>1</td>\n",
              "      <td>0</td>\n",
              "      <td>0</td>\n",
              "      <td>0</td>\n",
              "      <td>1</td>\n",
              "      <td>0</td>\n",
              "      <td>0</td>\n",
              "      <td>0</td>\n",
              "      <td>0</td>\n",
              "      <td>0</td>\n",
              "      <td>0</td>\n",
              "      <td>1</td>\n",
              "      <td>0</td>\n",
              "      <td>0</td>\n",
              "      <td>1</td>\n",
              "      <td>0</td>\n",
              "      <td>0</td>\n",
              "      <td>0</td>\n",
              "    </tr>\n",
              "    <tr>\n",
              "      <th>60576</th>\n",
              "      <td>3334825</td>\n",
              "      <td>50976</td>\n",
              "      <td>M</td>\n",
              "      <td>2034-06-29</td>\n",
              "      <td>142575</td>\n",
              "      <td>83.8</td>\n",
              "      <td>CHEST PAIN</td>\n",
              "      <td>2114-10-24 13:31:00</td>\n",
              "      <td>2114-10-26 16:29:00</td>\n",
              "      <td>CLINIC REFERRAL/PREMATURE</td>\n",
              "      <td>ACTIVE</td>\n",
              "      <td>HOME</td>\n",
              "      <td>Medicare</td>\n",
              "      <td>CATHOLIC</td>\n",
              "      <td>SINGLE</td>\n",
              "      <td>WHITE</td>\n",
              "      <td>2114-10-24 13:57:00</td>\n",
              "      <td>80</td>\n",
              "      <td>1</td>\n",
              "      <td>0</td>\n",
              "      <td>1</td>\n",
              "      <td>0</td>\n",
              "      <td>0</td>\n",
              "      <td>1</td>\n",
              "      <td>0</td>\n",
              "      <td>0</td>\n",
              "      <td>0</td>\n",
              "      <td>1</td>\n",
              "      <td>0</td>\n",
              "      <td>0</td>\n",
              "      <td>0</td>\n",
              "      <td>1</td>\n",
              "      <td>0</td>\n",
              "      <td>0</td>\n",
              "      <td>0</td>\n",
              "      <td>0</td>\n",
              "      <td>0</td>\n",
              "      <td>0</td>\n",
              "      <td>1</td>\n",
              "      <td>0</td>\n",
              "      <td>0</td>\n",
              "      <td>1</td>\n",
              "      <td>0</td>\n",
              "      <td>0</td>\n",
              "      <td>0</td>\n",
              "    </tr>\n",
              "    <tr>\n",
              "      <th>60577</th>\n",
              "      <td>3334856</td>\n",
              "      <td>50976</td>\n",
              "      <td>M</td>\n",
              "      <td>2034-06-29</td>\n",
              "      <td>142575</td>\n",
              "      <td>83.8</td>\n",
              "      <td>CHEST PAIN</td>\n",
              "      <td>2114-10-24 13:31:00</td>\n",
              "      <td>2114-10-26 16:29:00</td>\n",
              "      <td>CLINIC REFERRAL/PREMATURE</td>\n",
              "      <td>ACTIVE</td>\n",
              "      <td>HOME</td>\n",
              "      <td>Medicare</td>\n",
              "      <td>CATHOLIC</td>\n",
              "      <td>SINGLE</td>\n",
              "      <td>WHITE</td>\n",
              "      <td>2114-10-24 13:57:00</td>\n",
              "      <td>80</td>\n",
              "      <td>1</td>\n",
              "      <td>0</td>\n",
              "      <td>1</td>\n",
              "      <td>0</td>\n",
              "      <td>0</td>\n",
              "      <td>1</td>\n",
              "      <td>0</td>\n",
              "      <td>0</td>\n",
              "      <td>0</td>\n",
              "      <td>1</td>\n",
              "      <td>0</td>\n",
              "      <td>0</td>\n",
              "      <td>0</td>\n",
              "      <td>1</td>\n",
              "      <td>0</td>\n",
              "      <td>0</td>\n",
              "      <td>0</td>\n",
              "      <td>0</td>\n",
              "      <td>0</td>\n",
              "      <td>0</td>\n",
              "      <td>1</td>\n",
              "      <td>0</td>\n",
              "      <td>0</td>\n",
              "      <td>1</td>\n",
              "      <td>0</td>\n",
              "      <td>0</td>\n",
              "      <td>0</td>\n",
              "    </tr>\n",
              "  </tbody>\n",
              "</table>\n",
              "<p>60578 rows × 45 columns</p>\n",
              "</div>"
            ],
            "text/plain": [
              "        ROW_ID  SUBJECT_ID  ... ETHNICITY_OTHER ETHNICITY_OTHERS\n",
              "0      1997208       74821  ...               0                0\n",
              "1      1997215       74821  ...               0                0\n",
              "2      1997213       74821  ...               0                0\n",
              "3      1997209       74821  ...               0                0\n",
              "4      1997212       74821  ...               0                0\n",
              "...        ...         ...  ...             ...              ...\n",
              "60573  3334970       50976  ...               0                0\n",
              "60574  3334780       50976  ...               0                0\n",
              "60575  3334965       50976  ...               0                0\n",
              "60576  3334825       50976  ...               0                0\n",
              "60577  3334856       50976  ...               0                0\n",
              "\n",
              "[60578 rows x 45 columns]"
            ]
          },
          "metadata": {
            "tags": []
          },
          "execution_count": 488
        }
      ]
    },
    {
      "cell_type": "code",
      "metadata": {
        "id": "dcW88nloR17N"
      },
      "source": [
        "df = pd.read_csv(gdrive_rootpath + 'Promise Onu_pg835011_Digital Health and Data Analytics_clean.csv')"
      ],
      "execution_count": 489,
      "outputs": []
    },
    {
      "cell_type": "code",
      "metadata": {
        "colab": {
          "base_uri": "https://localhost:8080/"
        },
        "id": "t4pJuVA-p_Oq",
        "outputId": "163a5a6c-76f7-46e3-ffbf-c997ab1143e5"
      },
      "source": [
        "df.columns"
      ],
      "execution_count": 490,
      "outputs": [
        {
          "output_type": "execute_result",
          "data": {
            "text/plain": [
              "Index(['ROW_ID', 'SUBJECT_ID', 'GENDER', 'DOB', 'HADM_ID', 'PATIENTWEIGHT',\n",
              "       'DIAGNOSIS', 'ADMITTIME', 'DISCHTIME', 'ADMISSION_LOCATION',\n",
              "       'DEATHTIME', 'DISCHARGE_LOCATION', 'INSURANCE', 'RELIGION',\n",
              "       'MARITAL_STATUS', 'ETHNICITY', 'EDOUTTIME', 'AGE', 'ACTIVE PATIENT',\n",
              "       'DIAGNOSIS_CARDIAC ARREST', 'DIAGNOSIS_CHEST PAIN',\n",
              "       'DIAGNOSIS_MYOCARDIAL INFARCTION', 'DIAGNOSIS_STROKE',\n",
              "       'INSURANCE_Medicare', 'INSURANCE_Private', 'INSURANCE_Medicaid',\n",
              "       'INSURANCE_OTHERS', 'RELIGION_CATHOLIC', 'RELIGION_PROTESTANT QUAKER',\n",
              "       'RELIGION_NOT SPECIFIED', 'RELIGION_OTHERS',\n",
              "       'ADMISSION_LOCATION_CLINIC REFERRAL/PREMATURE',\n",
              "       'ADMISSION_LOCATION_EMERGENCY ROOM ADMIT',\n",
              "       'ADMISSION_LOCATION_PHYS REFERRAL/NORMAL DELI',\n",
              "       'ADMISSION_LOCATION_TRANSFER FROM HOSP/EXTRAM',\n",
              "       'ADMISSION_LOCATION_TRANSFER FROM SKILLED NUR', 'GENDER_F',\n",
              "       'DISCHARGE_LOCATION_HOME HEALTH CARE', 'DISCHARGE_LOCATION_HOME',\n",
              "       'DISCHARGE_LOCATION_DEAD/EXPIRED', 'DISCHARGE_LOCATION_OTHERS',\n",
              "       'ETHNICITY_WHITE', 'ETHNICITY_BLACK/AFRICAN AMERICAN',\n",
              "       'ETHNICITY_OTHER', 'ETHNICITY_OTHERS'],\n",
              "      dtype='object')"
            ]
          },
          "metadata": {
            "tags": []
          },
          "execution_count": 490
        }
      ]
    },
    {
      "cell_type": "code",
      "metadata": {
        "colab": {
          "base_uri": "https://localhost:8080/"
        },
        "id": "PtOX8ZQgqL_n",
        "outputId": "46cc9514-7735-478c-d088-3ccf2adb07f9"
      },
      "source": [
        "df['ACTIVE PATIENT'].value_counts()"
      ],
      "execution_count": 491,
      "outputs": [
        {
          "output_type": "execute_result",
          "data": {
            "text/plain": [
              "1    51011\n",
              "0     9567\n",
              "Name: ACTIVE PATIENT, dtype: int64"
            ]
          },
          "metadata": {
            "tags": []
          },
          "execution_count": 491
        }
      ]
    },
    {
      "cell_type": "code",
      "metadata": {
        "id": "nhX-lIzKrkEP"
      },
      "source": [
        "import seaborn as sns \n",
        "import matplotlib.pyplot as plt\n",
        "%matplotlib inline"
      ],
      "execution_count": 492,
      "outputs": []
    },
    {
      "cell_type": "code",
      "metadata": {
        "colab": {
          "base_uri": "https://localhost:8080/",
          "height": 195
        },
        "id": "fciZ-grUrvEy",
        "outputId": "4d0aa640-cf61-4ccd-e738-c0f45fd6165f"
      },
      "source": [
        "df[['DIAGNOSIS', 'ACTIVE PATIENT']].groupby(['DIAGNOSIS']).mean()"
      ],
      "execution_count": 493,
      "outputs": [
        {
          "output_type": "execute_result",
          "data": {
            "text/html": [
              "<div>\n",
              "<style scoped>\n",
              "    .dataframe tbody tr th:only-of-type {\n",
              "        vertical-align: middle;\n",
              "    }\n",
              "\n",
              "    .dataframe tbody tr th {\n",
              "        vertical-align: top;\n",
              "    }\n",
              "\n",
              "    .dataframe thead th {\n",
              "        text-align: right;\n",
              "    }\n",
              "</style>\n",
              "<table border=\"1\" class=\"dataframe\">\n",
              "  <thead>\n",
              "    <tr style=\"text-align: right;\">\n",
              "      <th></th>\n",
              "      <th>ACTIVE PATIENT</th>\n",
              "    </tr>\n",
              "    <tr>\n",
              "      <th>DIAGNOSIS</th>\n",
              "      <th></th>\n",
              "    </tr>\n",
              "  </thead>\n",
              "  <tbody>\n",
              "    <tr>\n",
              "      <th>CARDIAC ARREST</th>\n",
              "      <td>0.634856</td>\n",
              "    </tr>\n",
              "    <tr>\n",
              "      <th>CHEST PAIN</th>\n",
              "      <td>0.904252</td>\n",
              "    </tr>\n",
              "    <tr>\n",
              "      <th>MYOCARDIAL INFARCTION</th>\n",
              "      <td>0.895858</td>\n",
              "    </tr>\n",
              "    <tr>\n",
              "      <th>STROKE</th>\n",
              "      <td>1.000000</td>\n",
              "    </tr>\n",
              "  </tbody>\n",
              "</table>\n",
              "</div>"
            ],
            "text/plain": [
              "                       ACTIVE PATIENT\n",
              "DIAGNOSIS                            \n",
              "CARDIAC ARREST               0.634856\n",
              "CHEST PAIN                   0.904252\n",
              "MYOCARDIAL INFARCTION        0.895858\n",
              "STROKE                       1.000000"
            ]
          },
          "metadata": {
            "tags": []
          },
          "execution_count": 493
        }
      ]
    },
    {
      "cell_type": "code",
      "metadata": {
        "colab": {
          "base_uri": "https://localhost:8080/",
          "height": 296
        },
        "id": "ugajzdb0se6T",
        "outputId": "68b5064f-d69d-4dc6-f81a-c342aaa3e166"
      },
      "source": [
        "sns.barplot(x = 'DIAGNOSIS', y = 'ACTIVE PATIENT', data = df)"
      ],
      "execution_count": 494,
      "outputs": [
        {
          "output_type": "execute_result",
          "data": {
            "text/plain": [
              "<matplotlib.axes._subplots.AxesSubplot at 0x7f049e2cc110>"
            ]
          },
          "metadata": {
            "tags": []
          },
          "execution_count": 494
        },
        {
          "output_type": "display_data",
          "data": {
            "image/png": "[encoded data removed]",
            "text/plain": [
              "<Figure size 432x288 with 1 Axes>"
            ]
          },
          "metadata": {
            "tags": [],
            "needs_background": "light"
          }
        }
      ]
    },
    {
      "cell_type": "code",
      "metadata": {
        "colab": {
          "base_uri": "https://localhost:8080/",
          "height": 225
        },
        "id": "Y0Li2h6qs5bo",
        "outputId": "36cf2451-7de2-4575-f76c-3a1a5c47592e"
      },
      "source": [
        "df[['INSURANCE', 'ACTIVE PATIENT']].groupby(['INSURANCE']).mean()"
      ],
      "execution_count": 495,
      "outputs": [
        {
          "output_type": "execute_result",
          "data": {
            "text/html": [
              "<div>\n",
              "<style scoped>\n",
              "    .dataframe tbody tr th:only-of-type {\n",
              "        vertical-align: middle;\n",
              "    }\n",
              "\n",
              "    .dataframe tbody tr th {\n",
              "        vertical-align: top;\n",
              "    }\n",
              "\n",
              "    .dataframe thead th {\n",
              "        text-align: right;\n",
              "    }\n",
              "</style>\n",
              "<table border=\"1\" class=\"dataframe\">\n",
              "  <thead>\n",
              "    <tr style=\"text-align: right;\">\n",
              "      <th></th>\n",
              "      <th>ACTIVE PATIENT</th>\n",
              "    </tr>\n",
              "    <tr>\n",
              "      <th>INSURANCE</th>\n",
              "      <th></th>\n",
              "    </tr>\n",
              "  </thead>\n",
              "  <tbody>\n",
              "    <tr>\n",
              "      <th>Government</th>\n",
              "      <td>0.117216</td>\n",
              "    </tr>\n",
              "    <tr>\n",
              "      <th>Medicaid</th>\n",
              "      <td>0.966569</td>\n",
              "    </tr>\n",
              "    <tr>\n",
              "      <th>Medicare</th>\n",
              "      <td>0.837662</td>\n",
              "    </tr>\n",
              "    <tr>\n",
              "      <th>Private</th>\n",
              "      <td>0.838388</td>\n",
              "    </tr>\n",
              "    <tr>\n",
              "      <th>Self Pay</th>\n",
              "      <td>0.000000</td>\n",
              "    </tr>\n",
              "  </tbody>\n",
              "</table>\n",
              "</div>"
            ],
            "text/plain": [
              "            ACTIVE PATIENT\n",
              "INSURANCE                 \n",
              "Government        0.117216\n",
              "Medicaid          0.966569\n",
              "Medicare          0.837662\n",
              "Private           0.838388\n",
              "Self Pay          0.000000"
            ]
          },
          "metadata": {
            "tags": []
          },
          "execution_count": 495
        }
      ]
    },
    {
      "cell_type": "code",
      "metadata": {
        "colab": {
          "base_uri": "https://localhost:8080/",
          "height": 296
        },
        "id": "bJuIRjiftANR",
        "outputId": "bc1eaa22-faae-4948-c2ff-5be5816b7830"
      },
      "source": [
        "sns.histplot(x = 'INSURANCE', data = df)"
      ],
      "execution_count": 496,
      "outputs": [
        {
          "output_type": "execute_result",
          "data": {
            "text/plain": [
              "<matplotlib.axes._subplots.AxesSubplot at 0x7f049f23b6d0>"
            ]
          },
          "metadata": {
            "tags": []
          },
          "execution_count": 496
        },
        {
          "output_type": "display_data",
          "data": {
            "image/png": "[encoded data removed]",
            "text/plain": [
              "<Figure size 432x288 with 1 Axes>"
            ]
          },
          "metadata": {
            "tags": [],
            "needs_background": "light"
          }
        }
      ]
    },
    {
      "cell_type": "code",
      "metadata": {
        "colab": {
          "base_uri": "https://localhost:8080/",
          "height": 225
        },
        "id": "oRijbVtXvcDd",
        "outputId": "114490fe-2094-4253-f64d-38bd313b90d7"
      },
      "source": [
        "df[['ADMISSION_LOCATION', 'ACTIVE PATIENT']].groupby(['ADMISSION_LOCATION']).mean() "
      ],
      "execution_count": 497,
      "outputs": [
        {
          "output_type": "execute_result",
          "data": {
            "text/html": [
              "<div>\n",
              "<style scoped>\n",
              "    .dataframe tbody tr th:only-of-type {\n",
              "        vertical-align: middle;\n",
              "    }\n",
              "\n",
              "    .dataframe tbody tr th {\n",
              "        vertical-align: top;\n",
              "    }\n",
              "\n",
              "    .dataframe thead th {\n",
              "        text-align: right;\n",
              "    }\n",
              "</style>\n",
              "<table border=\"1\" class=\"dataframe\">\n",
              "  <thead>\n",
              "    <tr style=\"text-align: right;\">\n",
              "      <th></th>\n",
              "      <th>ACTIVE PATIENT</th>\n",
              "    </tr>\n",
              "    <tr>\n",
              "      <th>ADMISSION_LOCATION</th>\n",
              "      <th></th>\n",
              "    </tr>\n",
              "  </thead>\n",
              "  <tbody>\n",
              "    <tr>\n",
              "      <th>CLINIC REFERRAL/PREMATURE</th>\n",
              "      <td>0.836671</td>\n",
              "    </tr>\n",
              "    <tr>\n",
              "      <th>EMERGENCY ROOM ADMIT</th>\n",
              "      <td>0.851892</td>\n",
              "    </tr>\n",
              "    <tr>\n",
              "      <th>PHYS REFERRAL/NORMAL DELI</th>\n",
              "      <td>1.000000</td>\n",
              "    </tr>\n",
              "    <tr>\n",
              "      <th>TRANSFER FROM HOSP/EXTRAM</th>\n",
              "      <td>0.779476</td>\n",
              "    </tr>\n",
              "    <tr>\n",
              "      <th>TRANSFER FROM SKILLED NUR</th>\n",
              "      <td>1.000000</td>\n",
              "    </tr>\n",
              "  </tbody>\n",
              "</table>\n",
              "</div>"
            ],
            "text/plain": [
              "                           ACTIVE PATIENT\n",
              "ADMISSION_LOCATION                       \n",
              "CLINIC REFERRAL/PREMATURE        0.836671\n",
              "EMERGENCY ROOM ADMIT             0.851892\n",
              "PHYS REFERRAL/NORMAL DELI        1.000000\n",
              "TRANSFER FROM HOSP/EXTRAM        0.779476\n",
              "TRANSFER FROM SKILLED NUR        1.000000"
            ]
          },
          "metadata": {
            "tags": []
          },
          "execution_count": 497
        }
      ]
    },
    {
      "cell_type": "code",
      "metadata": {
        "colab": {
          "base_uri": "https://localhost:8080/",
          "height": 296
        },
        "id": "tGD7WXF_vbdi",
        "outputId": "6b783188-2294-40b9-c039-a55b8e6324e2"
      },
      "source": [
        "sns.barplot(x = 'ACTIVE PATIENT', y = 'ADMISSION_LOCATION', data = df)"
      ],
      "execution_count": 498,
      "outputs": [
        {
          "output_type": "execute_result",
          "data": {
            "text/plain": [
              "<matplotlib.axes._subplots.AxesSubplot at 0x7f049dde4b50>"
            ]
          },
          "metadata": {
            "tags": []
          },
          "execution_count": 498
        },
        {
          "output_type": "display_data",
          "data": {
            "image/png": "[encoded data removed]",
            "text/plain": [
              "<Figure size 432x288 with 1 Axes>"
            ]
          },
          "metadata": {
            "tags": [],
            "needs_background": "light"
          }
        }
      ]
    },
    {
      "cell_type": "code",
      "metadata": {
        "colab": {
          "base_uri": "https://localhost:8080/",
          "height": 296
        },
        "id": "Q4f59SRFvbZ5",
        "outputId": "81a39c13-9f48-4536-edc1-cd9b5fe5630b"
      },
      "source": [
        "sns.barplot(x = 'PATIENTWEIGHT', y = 'DIAGNOSIS', data = df)"
      ],
      "execution_count": 499,
      "outputs": [
        {
          "output_type": "execute_result",
          "data": {
            "text/plain": [
              "<matplotlib.axes._subplots.AxesSubplot at 0x7f049dbb1b90>"
            ]
          },
          "metadata": {
            "tags": []
          },
          "execution_count": 499
        },
        {
          "output_type": "display_data",
          "data": {
            "image/png": "[encoded data removed]",
            "text/plain": [
              "<Figure size 432x288 with 1 Axes>"
            ]
          },
          "metadata": {
            "tags": [],
            "needs_background": "light"
          }
        }
      ]
    },
    {
      "cell_type": "code",
      "metadata": {
        "colab": {
          "base_uri": "https://localhost:8080/",
          "height": 195
        },
        "id": "hxj9wglAvbDT",
        "outputId": "bf26d6fa-229e-4808-d473-706c2e077545"
      },
      "source": [
        "df[['DIAGNOSIS', 'PATIENTWEIGHT']].groupby(['DIAGNOSIS']).mean()"
      ],
      "execution_count": 500,
      "outputs": [
        {
          "output_type": "execute_result",
          "data": {
            "text/html": [
              "<div>\n",
              "<style scoped>\n",
              "    .dataframe tbody tr th:only-of-type {\n",
              "        vertical-align: middle;\n",
              "    }\n",
              "\n",
              "    .dataframe tbody tr th {\n",
              "        vertical-align: top;\n",
              "    }\n",
              "\n",
              "    .dataframe thead th {\n",
              "        text-align: right;\n",
              "    }\n",
              "</style>\n",
              "<table border=\"1\" class=\"dataframe\">\n",
              "  <thead>\n",
              "    <tr style=\"text-align: right;\">\n",
              "      <th></th>\n",
              "      <th>PATIENTWEIGHT</th>\n",
              "    </tr>\n",
              "    <tr>\n",
              "      <th>DIAGNOSIS</th>\n",
              "      <th></th>\n",
              "    </tr>\n",
              "  </thead>\n",
              "  <tbody>\n",
              "    <tr>\n",
              "      <th>CARDIAC ARREST</th>\n",
              "      <td>104.697091</td>\n",
              "    </tr>\n",
              "    <tr>\n",
              "      <th>CHEST PAIN</th>\n",
              "      <td>99.399585</td>\n",
              "    </tr>\n",
              "    <tr>\n",
              "      <th>MYOCARDIAL INFARCTION</th>\n",
              "      <td>96.505957</td>\n",
              "    </tr>\n",
              "    <tr>\n",
              "      <th>STROKE</th>\n",
              "      <td>92.253942</td>\n",
              "    </tr>\n",
              "  </tbody>\n",
              "</table>\n",
              "</div>"
            ],
            "text/plain": [
              "                       PATIENTWEIGHT\n",
              "DIAGNOSIS                           \n",
              "CARDIAC ARREST            104.697091\n",
              "CHEST PAIN                 99.399585\n",
              "MYOCARDIAL INFARCTION      96.505957\n",
              "STROKE                     92.253942"
            ]
          },
          "metadata": {
            "tags": []
          },
          "execution_count": 500
        }
      ]
    },
    {
      "cell_type": "code",
      "metadata": {
        "colab": {
          "base_uri": "https://localhost:8080/",
          "height": 242
        },
        "id": "QjCw7ptHvZY2",
        "outputId": "1008d3fe-2377-4aca-d97b-1eb711373421"
      },
      "source": [
        "g = sns.FacetGrid(df, col = 'ACTIVE PATIENT', sharey = False)\n",
        "g.map(sns.histplot, 'DIAGNOSIS', bins = 20) "
      ],
      "execution_count": 501,
      "outputs": [
        {
          "output_type": "execute_result",
          "data": {
            "text/plain": [
              "<seaborn.axisgrid.FacetGrid at 0x7f049e0da8d0>"
            ]
          },
          "metadata": {
            "tags": []
          },
          "execution_count": 501
        },
        {
          "output_type": "display_data",
          "data": {
            "image/png": "[encoded data removed]",
            "text/plain": [
              "<Figure size 432x216 with 2 Axes>"
            ]
          },
          "metadata": {
            "tags": [],
            "needs_background": "light"
          }
        }
      ]
    },
    {
      "cell_type": "code",
      "metadata": {
        "colab": {
          "base_uri": "https://localhost:8080/",
          "height": 242
        },
        "id": "zf2bd8lu2dXR",
        "outputId": "4e3ffec2-5973-4a06-c0cf-1c97c871c4b4"
      },
      "source": [
        "g = sns.FacetGrid(df, col = 'ACTIVE PATIENT', sharey = False)\n",
        "g.map(sns.histplot, 'PATIENTWEIGHT', bins = 100, kde = True) "
      ],
      "execution_count": 502,
      "outputs": [
        {
          "output_type": "execute_result",
          "data": {
            "text/plain": [
              "<seaborn.axisgrid.FacetGrid at 0x7f049e7fc510>"
            ]
          },
          "metadata": {
            "tags": []
          },
          "execution_count": 502
        },
        {
          "output_type": "display_data",
          "data": {
            "image/png": "[encoded data removed]",
            "text/plain": [
              "<Figure size 432x216 with 2 Axes>"
            ]
          },
          "metadata": {
            "tags": [],
            "needs_background": "light"
          }
        }
      ]
    },
    {
      "cell_type": "code",
      "metadata": {
        "id": "mNDfh-IBC1VF"
      },
      "source": [
        "from sklearn.model_selection import train_test_split, GridSearchCV\n",
        "from sklearn.ensemble import RandomForestClassifier, RandomForestRegressor\n",
        "from sklearn.linear_model import LogisticRegression\n",
        "from sklearn.metrics import accuracy_score, f1_score, classification_report, plot_confusion_matrix, plot_roc_curve, mean_squared_error, r2_score"
      ],
      "execution_count": 503,
      "outputs": []
    },
    {
      "cell_type": "code",
      "metadata": {
        "colab": {
          "base_uri": "https://localhost:8080/"
        },
        "id": "yzaxfAZPDFH8",
        "outputId": "985bdf58-9d67-4718-c8eb-a681bc14eece"
      },
      "source": [
        "df.info()"
      ],
      "execution_count": 504,
      "outputs": [
        {
          "output_type": "stream",
          "text": [
            "<class 'pandas.core.frame.DataFrame'>\n",
            "RangeIndex: 60578 entries, 0 to 60577\n",
            "Data columns (total 45 columns):\n",
            " #   Column                                        Non-Null Count  Dtype  \n",
            "---  ------                                        --------------  -----  \n",
            " 0   ROW_ID                                        60578 non-null  int64  \n",
            " 1   SUBJECT_ID                                    60578 non-null  int64  \n",
            " 2   GENDER                                        60578 non-null  object \n",
            " 3   DOB                                           60578 non-null  object \n",
            " 4   HADM_ID                                       60578 non-null  int64  \n",
            " 5   PATIENTWEIGHT                                 60578 non-null  float64\n",
            " 6   DIAGNOSIS                                     60578 non-null  object \n",
            " 7   ADMITTIME                                     60578 non-null  object \n",
            " 8   DISCHTIME                                     60578 non-null  object \n",
            " 9   ADMISSION_LOCATION                            60578 non-null  object \n",
            " 10  DEATHTIME                                     60578 non-null  object \n",
            " 11  DISCHARGE_LOCATION                            60578 non-null  object \n",
            " 12  INSURANCE                                     60578 non-null  object \n",
            " 13  RELIGION                                      60578 non-null  object \n",
            " 14  MARITAL_STATUS                                58859 non-null  object \n",
            " 15  ETHNICITY                                     60578 non-null  object \n",
            " 16  EDOUTTIME                                     54384 non-null  object \n",
            " 17  AGE                                           60578 non-null  int64  \n",
            " 18  ACTIVE PATIENT                                60578 non-null  int64  \n",
            " 19  DIAGNOSIS_CARDIAC ARREST                      60578 non-null  int64  \n",
            " 20  DIAGNOSIS_CHEST PAIN                          60578 non-null  int64  \n",
            " 21  DIAGNOSIS_MYOCARDIAL INFARCTION               60578 non-null  int64  \n",
            " 22  DIAGNOSIS_STROKE                              60578 non-null  int64  \n",
            " 23  INSURANCE_Medicare                            60578 non-null  int64  \n",
            " 24  INSURANCE_Private                             60578 non-null  int64  \n",
            " 25  INSURANCE_Medicaid                            60578 non-null  int64  \n",
            " 26  INSURANCE_OTHERS                              60578 non-null  int64  \n",
            " 27  RELIGION_CATHOLIC                             60578 non-null  int64  \n",
            " 28  RELIGION_PROTESTANT QUAKER                    60578 non-null  int64  \n",
            " 29  RELIGION_NOT SPECIFIED                        60578 non-null  int64  \n",
            " 30  RELIGION_OTHERS                               60578 non-null  int64  \n",
            " 31  ADMISSION_LOCATION_CLINIC REFERRAL/PREMATURE  60578 non-null  int64  \n",
            " 32  ADMISSION_LOCATION_EMERGENCY ROOM ADMIT       60578 non-null  int64  \n",
            " 33  ADMISSION_LOCATION_PHYS REFERRAL/NORMAL DELI  60578 non-null  int64  \n",
            " 34  ADMISSION_LOCATION_TRANSFER FROM HOSP/EXTRAM  60578 non-null  int64  \n",
            " 35  ADMISSION_LOCATION_TRANSFER FROM SKILLED NUR  60578 non-null  int64  \n",
            " 36  GENDER_F                                      60578 non-null  int64  \n",
            " 37  DISCHARGE_LOCATION_HOME HEALTH CARE           60578 non-null  int64  \n",
            " 38  DISCHARGE_LOCATION_HOME                       60578 non-null  int64  \n",
            " 39  DISCHARGE_LOCATION_DEAD/EXPIRED               60578 non-null  int64  \n",
            " 40  DISCHARGE_LOCATION_OTHERS                     60578 non-null  int64  \n",
            " 41  ETHNICITY_WHITE                               60578 non-null  int64  \n",
            " 42  ETHNICITY_BLACK/AFRICAN AMERICAN              60578 non-null  int64  \n",
            " 43  ETHNICITY_OTHER                               60578 non-null  int64  \n",
            " 44  ETHNICITY_OTHERS                              60578 non-null  int64  \n",
            "dtypes: float64(1), int64(31), object(13)\n",
            "memory usage: 20.8+ MB\n"
          ],
          "name": "stdout"
        }
      ]
    },
    {
      "cell_type": "code",
      "metadata": {
        "colab": {
          "base_uri": "https://localhost:8080/"
        },
        "id": "rB9Il86DEN8L",
        "outputId": "1f8e68c9-8fa8-48bd-fa02-bd0df652d037"
      },
      "source": [
        "df.columns"
      ],
      "execution_count": 505,
      "outputs": [
        {
          "output_type": "execute_result",
          "data": {
            "text/plain": [
              "Index(['ROW_ID', 'SUBJECT_ID', 'GENDER', 'DOB', 'HADM_ID', 'PATIENTWEIGHT',\n",
              "       'DIAGNOSIS', 'ADMITTIME', 'DISCHTIME', 'ADMISSION_LOCATION',\n",
              "       'DEATHTIME', 'DISCHARGE_LOCATION', 'INSURANCE', 'RELIGION',\n",
              "       'MARITAL_STATUS', 'ETHNICITY', 'EDOUTTIME', 'AGE', 'ACTIVE PATIENT',\n",
              "       'DIAGNOSIS_CARDIAC ARREST', 'DIAGNOSIS_CHEST PAIN',\n",
              "       'DIAGNOSIS_MYOCARDIAL INFARCTION', 'DIAGNOSIS_STROKE',\n",
              "       'INSURANCE_Medicare', 'INSURANCE_Private', 'INSURANCE_Medicaid',\n",
              "       'INSURANCE_OTHERS', 'RELIGION_CATHOLIC', 'RELIGION_PROTESTANT QUAKER',\n",
              "       'RELIGION_NOT SPECIFIED', 'RELIGION_OTHERS',\n",
              "       'ADMISSION_LOCATION_CLINIC REFERRAL/PREMATURE',\n",
              "       'ADMISSION_LOCATION_EMERGENCY ROOM ADMIT',\n",
              "       'ADMISSION_LOCATION_PHYS REFERRAL/NORMAL DELI',\n",
              "       'ADMISSION_LOCATION_TRANSFER FROM HOSP/EXTRAM',\n",
              "       'ADMISSION_LOCATION_TRANSFER FROM SKILLED NUR', 'GENDER_F',\n",
              "       'DISCHARGE_LOCATION_HOME HEALTH CARE', 'DISCHARGE_LOCATION_HOME',\n",
              "       'DISCHARGE_LOCATION_DEAD/EXPIRED', 'DISCHARGE_LOCATION_OTHERS',\n",
              "       'ETHNICITY_WHITE', 'ETHNICITY_BLACK/AFRICAN AMERICAN',\n",
              "       'ETHNICITY_OTHER', 'ETHNICITY_OTHERS'],\n",
              "      dtype='object')"
            ]
          },
          "metadata": {
            "tags": []
          },
          "execution_count": 505
        }
      ]
    },
    {
      "cell_type": "code",
      "metadata": {
        "colab": {
          "base_uri": "https://localhost:8080/",
          "height": 400
        },
        "id": "6JzklbFexZM2",
        "outputId": "9bcb7499-a9cf-41ef-9cec-30fc28c81c1f"
      },
      "source": [
        "df.head()"
      ],
      "execution_count": 506,
      "outputs": [
        {
          "output_type": "execute_result",
          "data": {
            "text/html": [
              "<div>\n",
              "<style scoped>\n",
              "    .dataframe tbody tr th:only-of-type {\n",
              "        vertical-align: middle;\n",
              "    }\n",
              "\n",
              "    .dataframe tbody tr th {\n",
              "        vertical-align: top;\n",
              "    }\n",
              "\n",
              "    .dataframe thead th {\n",
              "        text-align: right;\n",
              "    }\n",
              "</style>\n",
              "<table border=\"1\" class=\"dataframe\">\n",
              "  <thead>\n",
              "    <tr style=\"text-align: right;\">\n",
              "      <th></th>\n",
              "      <th>ROW_ID</th>\n",
              "      <th>SUBJECT_ID</th>\n",
              "      <th>GENDER</th>\n",
              "      <th>DOB</th>\n",
              "      <th>HADM_ID</th>\n",
              "      <th>PATIENTWEIGHT</th>\n",
              "      <th>DIAGNOSIS</th>\n",
              "      <th>ADMITTIME</th>\n",
              "      <th>DISCHTIME</th>\n",
              "      <th>ADMISSION_LOCATION</th>\n",
              "      <th>DEATHTIME</th>\n",
              "      <th>DISCHARGE_LOCATION</th>\n",
              "      <th>INSURANCE</th>\n",
              "      <th>RELIGION</th>\n",
              "      <th>MARITAL_STATUS</th>\n",
              "      <th>ETHNICITY</th>\n",
              "      <th>EDOUTTIME</th>\n",
              "      <th>AGE</th>\n",
              "      <th>ACTIVE PATIENT</th>\n",
              "      <th>DIAGNOSIS_CARDIAC ARREST</th>\n",
              "      <th>DIAGNOSIS_CHEST PAIN</th>\n",
              "      <th>DIAGNOSIS_MYOCARDIAL INFARCTION</th>\n",
              "      <th>DIAGNOSIS_STROKE</th>\n",
              "      <th>INSURANCE_Medicare</th>\n",
              "      <th>INSURANCE_Private</th>\n",
              "      <th>INSURANCE_Medicaid</th>\n",
              "      <th>INSURANCE_OTHERS</th>\n",
              "      <th>RELIGION_CATHOLIC</th>\n",
              "      <th>RELIGION_PROTESTANT QUAKER</th>\n",
              "      <th>RELIGION_NOT SPECIFIED</th>\n",
              "      <th>RELIGION_OTHERS</th>\n",
              "      <th>ADMISSION_LOCATION_CLINIC REFERRAL/PREMATURE</th>\n",
              "      <th>ADMISSION_LOCATION_EMERGENCY ROOM ADMIT</th>\n",
              "      <th>ADMISSION_LOCATION_PHYS REFERRAL/NORMAL DELI</th>\n",
              "      <th>ADMISSION_LOCATION_TRANSFER FROM HOSP/EXTRAM</th>\n",
              "      <th>ADMISSION_LOCATION_TRANSFER FROM SKILLED NUR</th>\n",
              "      <th>GENDER_F</th>\n",
              "      <th>DISCHARGE_LOCATION_HOME HEALTH CARE</th>\n",
              "      <th>DISCHARGE_LOCATION_HOME</th>\n",
              "      <th>DISCHARGE_LOCATION_DEAD/EXPIRED</th>\n",
              "      <th>DISCHARGE_LOCATION_OTHERS</th>\n",
              "      <th>ETHNICITY_WHITE</th>\n",
              "      <th>ETHNICITY_BLACK/AFRICAN AMERICAN</th>\n",
              "      <th>ETHNICITY_OTHER</th>\n",
              "      <th>ETHNICITY_OTHERS</th>\n",
              "    </tr>\n",
              "  </thead>\n",
              "  <tbody>\n",
              "    <tr>\n",
              "      <th>0</th>\n",
              "      <td>1997208</td>\n",
              "      <td>74821</td>\n",
              "      <td>M</td>\n",
              "      <td>2108-04-25</td>\n",
              "      <td>146804</td>\n",
              "      <td>1370.0</td>\n",
              "      <td>CHEST PAIN</td>\n",
              "      <td>2141-09-29 15:25:00</td>\n",
              "      <td>2141-10-04 10:30:00</td>\n",
              "      <td>CLINIC REFERRAL/PREMATURE</td>\n",
              "      <td>ACTIVE</td>\n",
              "      <td>REHAB/DISTINCT PART HOSP</td>\n",
              "      <td>Private</td>\n",
              "      <td>CATHOLIC</td>\n",
              "      <td>MARRIED</td>\n",
              "      <td>WHITE</td>\n",
              "      <td>2141-09-29 16:32:00</td>\n",
              "      <td>33</td>\n",
              "      <td>1</td>\n",
              "      <td>0</td>\n",
              "      <td>1</td>\n",
              "      <td>0</td>\n",
              "      <td>0</td>\n",
              "      <td>0</td>\n",
              "      <td>1</td>\n",
              "      <td>0</td>\n",
              "      <td>0</td>\n",
              "      <td>1</td>\n",
              "      <td>0</td>\n",
              "      <td>0</td>\n",
              "      <td>0</td>\n",
              "      <td>1</td>\n",
              "      <td>0</td>\n",
              "      <td>0</td>\n",
              "      <td>0</td>\n",
              "      <td>0</td>\n",
              "      <td>0</td>\n",
              "      <td>0</td>\n",
              "      <td>0</td>\n",
              "      <td>0</td>\n",
              "      <td>1</td>\n",
              "      <td>1</td>\n",
              "      <td>0</td>\n",
              "      <td>0</td>\n",
              "      <td>0</td>\n",
              "    </tr>\n",
              "    <tr>\n",
              "      <th>1</th>\n",
              "      <td>1997215</td>\n",
              "      <td>74821</td>\n",
              "      <td>M</td>\n",
              "      <td>2108-04-25</td>\n",
              "      <td>146804</td>\n",
              "      <td>1370.0</td>\n",
              "      <td>CHEST PAIN</td>\n",
              "      <td>2141-09-29 15:25:00</td>\n",
              "      <td>2141-10-04 10:30:00</td>\n",
              "      <td>CLINIC REFERRAL/PREMATURE</td>\n",
              "      <td>ACTIVE</td>\n",
              "      <td>REHAB/DISTINCT PART HOSP</td>\n",
              "      <td>Private</td>\n",
              "      <td>CATHOLIC</td>\n",
              "      <td>MARRIED</td>\n",
              "      <td>WHITE</td>\n",
              "      <td>2141-09-29 16:32:00</td>\n",
              "      <td>33</td>\n",
              "      <td>1</td>\n",
              "      <td>0</td>\n",
              "      <td>1</td>\n",
              "      <td>0</td>\n",
              "      <td>0</td>\n",
              "      <td>0</td>\n",
              "      <td>1</td>\n",
              "      <td>0</td>\n",
              "      <td>0</td>\n",
              "      <td>1</td>\n",
              "      <td>0</td>\n",
              "      <td>0</td>\n",
              "      <td>0</td>\n",
              "      <td>1</td>\n",
              "      <td>0</td>\n",
              "      <td>0</td>\n",
              "      <td>0</td>\n",
              "      <td>0</td>\n",
              "      <td>0</td>\n",
              "      <td>0</td>\n",
              "      <td>0</td>\n",
              "      <td>0</td>\n",
              "      <td>1</td>\n",
              "      <td>1</td>\n",
              "      <td>0</td>\n",
              "      <td>0</td>\n",
              "      <td>0</td>\n",
              "    </tr>\n",
              "    <tr>\n",
              "      <th>2</th>\n",
              "      <td>1997213</td>\n",
              "      <td>74821</td>\n",
              "      <td>M</td>\n",
              "      <td>2108-04-25</td>\n",
              "      <td>146804</td>\n",
              "      <td>1370.0</td>\n",
              "      <td>CHEST PAIN</td>\n",
              "      <td>2141-09-29 15:25:00</td>\n",
              "      <td>2141-10-04 10:30:00</td>\n",
              "      <td>CLINIC REFERRAL/PREMATURE</td>\n",
              "      <td>ACTIVE</td>\n",
              "      <td>REHAB/DISTINCT PART HOSP</td>\n",
              "      <td>Private</td>\n",
              "      <td>CATHOLIC</td>\n",
              "      <td>MARRIED</td>\n",
              "      <td>WHITE</td>\n",
              "      <td>2141-09-29 16:32:00</td>\n",
              "      <td>33</td>\n",
              "      <td>1</td>\n",
              "      <td>0</td>\n",
              "      <td>1</td>\n",
              "      <td>0</td>\n",
              "      <td>0</td>\n",
              "      <td>0</td>\n",
              "      <td>1</td>\n",
              "      <td>0</td>\n",
              "      <td>0</td>\n",
              "      <td>1</td>\n",
              "      <td>0</td>\n",
              "      <td>0</td>\n",
              "      <td>0</td>\n",
              "      <td>1</td>\n",
              "      <td>0</td>\n",
              "      <td>0</td>\n",
              "      <td>0</td>\n",
              "      <td>0</td>\n",
              "      <td>0</td>\n",
              "      <td>0</td>\n",
              "      <td>0</td>\n",
              "      <td>0</td>\n",
              "      <td>1</td>\n",
              "      <td>1</td>\n",
              "      <td>0</td>\n",
              "      <td>0</td>\n",
              "      <td>0</td>\n",
              "    </tr>\n",
              "    <tr>\n",
              "      <th>3</th>\n",
              "      <td>1997209</td>\n",
              "      <td>74821</td>\n",
              "      <td>M</td>\n",
              "      <td>2108-04-25</td>\n",
              "      <td>146804</td>\n",
              "      <td>1370.0</td>\n",
              "      <td>CHEST PAIN</td>\n",
              "      <td>2141-09-29 15:25:00</td>\n",
              "      <td>2141-10-04 10:30:00</td>\n",
              "      <td>CLINIC REFERRAL/PREMATURE</td>\n",
              "      <td>ACTIVE</td>\n",
              "      <td>REHAB/DISTINCT PART HOSP</td>\n",
              "      <td>Private</td>\n",
              "      <td>CATHOLIC</td>\n",
              "      <td>MARRIED</td>\n",
              "      <td>WHITE</td>\n",
              "      <td>2141-09-29 16:32:00</td>\n",
              "      <td>33</td>\n",
              "      <td>1</td>\n",
              "      <td>0</td>\n",
              "      <td>1</td>\n",
              "      <td>0</td>\n",
              "      <td>0</td>\n",
              "      <td>0</td>\n",
              "      <td>1</td>\n",
              "      <td>0</td>\n",
              "      <td>0</td>\n",
              "      <td>1</td>\n",
              "      <td>0</td>\n",
              "      <td>0</td>\n",
              "      <td>0</td>\n",
              "      <td>1</td>\n",
              "      <td>0</td>\n",
              "      <td>0</td>\n",
              "      <td>0</td>\n",
              "      <td>0</td>\n",
              "      <td>0</td>\n",
              "      <td>0</td>\n",
              "      <td>0</td>\n",
              "      <td>0</td>\n",
              "      <td>1</td>\n",
              "      <td>1</td>\n",
              "      <td>0</td>\n",
              "      <td>0</td>\n",
              "      <td>0</td>\n",
              "    </tr>\n",
              "    <tr>\n",
              "      <th>4</th>\n",
              "      <td>1997212</td>\n",
              "      <td>74821</td>\n",
              "      <td>M</td>\n",
              "      <td>2108-04-25</td>\n",
              "      <td>146804</td>\n",
              "      <td>1370.0</td>\n",
              "      <td>CHEST PAIN</td>\n",
              "      <td>2141-09-29 15:25:00</td>\n",
              "      <td>2141-10-04 10:30:00</td>\n",
              "      <td>CLINIC REFERRAL/PREMATURE</td>\n",
              "      <td>ACTIVE</td>\n",
              "      <td>REHAB/DISTINCT PART HOSP</td>\n",
              "      <td>Private</td>\n",
              "      <td>CATHOLIC</td>\n",
              "      <td>MARRIED</td>\n",
              "      <td>WHITE</td>\n",
              "      <td>2141-09-29 16:32:00</td>\n",
              "      <td>33</td>\n",
              "      <td>1</td>\n",
              "      <td>0</td>\n",
              "      <td>1</td>\n",
              "      <td>0</td>\n",
              "      <td>0</td>\n",
              "      <td>0</td>\n",
              "      <td>1</td>\n",
              "      <td>0</td>\n",
              "      <td>0</td>\n",
              "      <td>1</td>\n",
              "      <td>0</td>\n",
              "      <td>0</td>\n",
              "      <td>0</td>\n",
              "      <td>1</td>\n",
              "      <td>0</td>\n",
              "      <td>0</td>\n",
              "      <td>0</td>\n",
              "      <td>0</td>\n",
              "      <td>0</td>\n",
              "      <td>0</td>\n",
              "      <td>0</td>\n",
              "      <td>0</td>\n",
              "      <td>1</td>\n",
              "      <td>1</td>\n",
              "      <td>0</td>\n",
              "      <td>0</td>\n",
              "      <td>0</td>\n",
              "    </tr>\n",
              "  </tbody>\n",
              "</table>\n",
              "</div>"
            ],
            "text/plain": [
              "    ROW_ID  SUBJECT_ID  ... ETHNICITY_OTHER ETHNICITY_OTHERS\n",
              "0  1997208       74821  ...               0                0\n",
              "1  1997215       74821  ...               0                0\n",
              "2  1997213       74821  ...               0                0\n",
              "3  1997209       74821  ...               0                0\n",
              "4  1997212       74821  ...               0                0\n",
              "\n",
              "[5 rows x 45 columns]"
            ]
          },
          "metadata": {
            "tags": []
          },
          "execution_count": 506
        }
      ]
    },
    {
      "cell_type": "code",
      "metadata": {
        "colab": {
          "base_uri": "https://localhost:8080/",
          "height": 402
        },
        "id": "DptDl7h8XzLy",
        "outputId": "c1e9250d-d8b9-4cee-f060-728132688c49"
      },
      "source": [
        "tmp_categories = list(df['MARITAL_STATUS'].value_counts()[:3].keys()) + ['OTHERS'] \n",
        "\n",
        "tmp_categories_dtype = pd.CategoricalDtype(tmp_categories)\n",
        "\n",
        "tmp_MARITAL_STATUS = df['MARITAL_STATUS'].astype(tmp_categories_dtype).fillna('OTHERS')\n",
        "tmp_MARITAL_STATUS = pd.get_dummies(tmp_MARITAL_STATUS, prefix = 'MARITAL_STATUS') \n",
        "\n",
        "df = pd.concat([df, tmp_MARITAL_STATUS], axis = 1) \n",
        "\n",
        "tmp_MARITAL_STATUS"
      ],
      "execution_count": 507,
      "outputs": [
        {
          "output_type": "execute_result",
          "data": {
            "text/html": [
              "<div>\n",
              "<style scoped>\n",
              "    .dataframe tbody tr th:only-of-type {\n",
              "        vertical-align: middle;\n",
              "    }\n",
              "\n",
              "    .dataframe tbody tr th {\n",
              "        vertical-align: top;\n",
              "    }\n",
              "\n",
              "    .dataframe thead th {\n",
              "        text-align: right;\n",
              "    }\n",
              "</style>\n",
              "<table border=\"1\" class=\"dataframe\">\n",
              "  <thead>\n",
              "    <tr style=\"text-align: right;\">\n",
              "      <th></th>\n",
              "      <th>MARITAL_STATUS_MARRIED</th>\n",
              "      <th>MARITAL_STATUS_SINGLE</th>\n",
              "      <th>MARITAL_STATUS_WIDOWED</th>\n",
              "      <th>MARITAL_STATUS_OTHERS</th>\n",
              "    </tr>\n",
              "  </thead>\n",
              "  <tbody>\n",
              "    <tr>\n",
              "      <th>0</th>\n",
              "      <td>1</td>\n",
              "      <td>0</td>\n",
              "      <td>0</td>\n",
              "      <td>0</td>\n",
              "    </tr>\n",
              "    <tr>\n",
              "      <th>1</th>\n",
              "      <td>1</td>\n",
              "      <td>0</td>\n",
              "      <td>0</td>\n",
              "      <td>0</td>\n",
              "    </tr>\n",
              "    <tr>\n",
              "      <th>2</th>\n",
              "      <td>1</td>\n",
              "      <td>0</td>\n",
              "      <td>0</td>\n",
              "      <td>0</td>\n",
              "    </tr>\n",
              "    <tr>\n",
              "      <th>3</th>\n",
              "      <td>1</td>\n",
              "      <td>0</td>\n",
              "      <td>0</td>\n",
              "      <td>0</td>\n",
              "    </tr>\n",
              "    <tr>\n",
              "      <th>4</th>\n",
              "      <td>1</td>\n",
              "      <td>0</td>\n",
              "      <td>0</td>\n",
              "      <td>0</td>\n",
              "    </tr>\n",
              "    <tr>\n",
              "      <th>...</th>\n",
              "      <td>...</td>\n",
              "      <td>...</td>\n",
              "      <td>...</td>\n",
              "      <td>...</td>\n",
              "    </tr>\n",
              "    <tr>\n",
              "      <th>60573</th>\n",
              "      <td>0</td>\n",
              "      <td>1</td>\n",
              "      <td>0</td>\n",
              "      <td>0</td>\n",
              "    </tr>\n",
              "    <tr>\n",
              "      <th>60574</th>\n",
              "      <td>0</td>\n",
              "      <td>1</td>\n",
              "      <td>0</td>\n",
              "      <td>0</td>\n",
              "    </tr>\n",
              "    <tr>\n",
              "      <th>60575</th>\n",
              "      <td>0</td>\n",
              "      <td>1</td>\n",
              "      <td>0</td>\n",
              "      <td>0</td>\n",
              "    </tr>\n",
              "    <tr>\n",
              "      <th>60576</th>\n",
              "      <td>0</td>\n",
              "      <td>1</td>\n",
              "      <td>0</td>\n",
              "      <td>0</td>\n",
              "    </tr>\n",
              "    <tr>\n",
              "      <th>60577</th>\n",
              "      <td>0</td>\n",
              "      <td>1</td>\n",
              "      <td>0</td>\n",
              "      <td>0</td>\n",
              "    </tr>\n",
              "  </tbody>\n",
              "</table>\n",
              "<p>60578 rows × 4 columns</p>\n",
              "</div>"
            ],
            "text/plain": [
              "       MARITAL_STATUS_MARRIED  ...  MARITAL_STATUS_OTHERS\n",
              "0                           1  ...                      0\n",
              "1                           1  ...                      0\n",
              "2                           1  ...                      0\n",
              "3                           1  ...                      0\n",
              "4                           1  ...                      0\n",
              "...                       ...  ...                    ...\n",
              "60573                       0  ...                      0\n",
              "60574                       0  ...                      0\n",
              "60575                       0  ...                      0\n",
              "60576                       0  ...                      0\n",
              "60577                       0  ...                      0\n",
              "\n",
              "[60578 rows x 4 columns]"
            ]
          },
          "metadata": {
            "tags": []
          },
          "execution_count": 507
        }
      ]
    },
    {
      "cell_type": "code",
      "metadata": {
        "colab": {
          "base_uri": "https://localhost:8080/"
        },
        "id": "ZAyvR3dBDEve",
        "outputId": "bd23d69b-e0bd-4279-84fa-35b7de58bbd3"
      },
      "source": [
        "features_list = ['PATIENTWEIGHT', 'AGE', 'DIAGNOSIS_CARDIAC ARREST', \n",
        "       'DIAGNOSIS_CHEST PAIN', 'DIAGNOSIS_MYOCARDIAL INFARCTION', 'DIAGNOSIS_STROKE',\n",
        "       'INSURANCE_Medicare', 'INSURANCE_Private', 'INSURANCE_Medicaid',\n",
        "       'INSURANCE_OTHERS', 'ADMISSION_LOCATION_CLINIC REFERRAL/PREMATURE',\n",
        "       'ADMISSION_LOCATION_EMERGENCY ROOM ADMIT',\n",
        "       'ADMISSION_LOCATION_PHYS REFERRAL/NORMAL DELI',\n",
        "       'ADMISSION_LOCATION_TRANSFER FROM HOSP/EXTRAM',\n",
        "       'ADMISSION_LOCATION_TRANSFER FROM SKILLED NUR', 'GENDER_F',\n",
        "       'ETHNICITY_WHITE', 'ETHNICITY_BLACK/AFRICAN AMERICAN',\n",
        "       'ETHNICITY_OTHER', 'ETHNICITY_OTHERS']\n",
        "\n",
        "len(features_list)"
      ],
      "execution_count": 508,
      "outputs": [
        {
          "output_type": "execute_result",
          "data": {
            "text/plain": [
              "20"
            ]
          },
          "metadata": {
            "tags": []
          },
          "execution_count": 508
        }
      ]
    },
    {
      "cell_type": "code",
      "metadata": {
        "id": "PlxGNwDIE98m"
      },
      "source": [
        "X = df[features_list]\n",
        "y = df['ACTIVE PATIENT']"
      ],
      "execution_count": 509,
      "outputs": []
    },
    {
      "cell_type": "code",
      "metadata": {
        "id": "7YVYM1x-FZ0M"
      },
      "source": [
        "X_train, X_test, y_train, y_test = train_test_split(X, y, test_size = 0.2, random_state = 1, stratify = y)     "
      ],
      "execution_count": 510,
      "outputs": []
    },
    {
      "cell_type": "code",
      "metadata": {
        "id": "ijtbPUhEF29v",
        "colab": {
          "base_uri": "https://localhost:8080/"
        },
        "outputId": "9ee880be-bf81-41c4-fdfd-6484e0c67d2c"
      },
      "source": [
        "X_train.shape"
      ],
      "execution_count": 511,
      "outputs": [
        {
          "output_type": "execute_result",
          "data": {
            "text/plain": [
              "(48462, 20)"
            ]
          },
          "metadata": {
            "tags": []
          },
          "execution_count": 511
        }
      ]
    },
    {
      "cell_type": "code",
      "metadata": {
        "id": "Mz49_VABF9jP",
        "colab": {
          "base_uri": "https://localhost:8080/"
        },
        "outputId": "144eca7d-9416-4b58-e7b8-4fbbeec83d89"
      },
      "source": [
        "X_test.shape"
      ],
      "execution_count": 512,
      "outputs": [
        {
          "output_type": "execute_result",
          "data": {
            "text/plain": [
              "(12116, 20)"
            ]
          },
          "metadata": {
            "tags": []
          },
          "execution_count": 512
        }
      ]
    },
    {
      "cell_type": "code",
      "metadata": {
        "id": "SmHBr2baZpLq"
      },
      "source": [
        "model_rf1 = RandomForestClassifier(n_estimators = 200, \n",
        "                                   random_state = 1,\n",
        "                                   n_jobs = -1)"
      ],
      "execution_count": 513,
      "outputs": []
    },
    {
      "cell_type": "code",
      "metadata": {
        "id": "zRol4RLAZx4D",
        "colab": {
          "base_uri": "https://localhost:8080/"
        },
        "outputId": "9da382e7-3f0e-4c4f-a4c3-e905d50b2b12"
      },
      "source": [
        "model_rf1.fit(X_train, y_train)"
      ],
      "execution_count": 514,
      "outputs": [
        {
          "output_type": "execute_result",
          "data": {
            "text/plain": [
              "RandomForestClassifier(bootstrap=True, ccp_alpha=0.0, class_weight=None,\n",
              "                       criterion='gini', max_depth=None, max_features='auto',\n",
              "                       max_leaf_nodes=None, max_samples=None,\n",
              "                       min_impurity_decrease=0.0, min_impurity_split=None,\n",
              "                       min_samples_leaf=1, min_samples_split=2,\n",
              "                       min_weight_fraction_leaf=0.0, n_estimators=200,\n",
              "                       n_jobs=-1, oob_score=False, random_state=1, verbose=0,\n",
              "                       warm_start=False)"
            ]
          },
          "metadata": {
            "tags": []
          },
          "execution_count": 514
        }
      ]
    },
    {
      "cell_type": "code",
      "metadata": {
        "id": "-qktF0PnaFju"
      },
      "source": [
        "y_pred_rf1 = model_rf1.predict(X_test)"
      ],
      "execution_count": 515,
      "outputs": []
    },
    {
      "cell_type": "code",
      "metadata": {
        "id": "py6NznB0am4r",
        "colab": {
          "base_uri": "https://localhost:8080/"
        },
        "outputId": "cbfaccfa-63ff-4b13-dfce-2a911032b510"
      },
      "source": [
        "print(classification_report(y_test, y_pred_rf1))"
      ],
      "execution_count": 516,
      "outputs": [
        {
          "output_type": "stream",
          "text": [
            "              precision    recall  f1-score   support\n",
            "\n",
            "           0       0.98      0.92      0.95      1913\n",
            "           1       0.99      1.00      0.99     10203\n",
            "\n",
            "    accuracy                           0.98     12116\n",
            "   macro avg       0.98      0.96      0.97     12116\n",
            "weighted avg       0.98      0.98      0.98     12116\n",
            "\n"
          ],
          "name": "stdout"
        }
      ]
    },
    {
      "cell_type": "code",
      "metadata": {
        "colab": {
          "base_uri": "https://localhost:8080/",
          "height": 280
        },
        "id": "0K20Qv_bVM92",
        "outputId": "4de423ac-5307-48b1-c1cb-ccd2d9984689"
      },
      "source": [
        "plot_confusion_matrix(model_rf1, X_test, y_test, values_format = 'd')\n",
        "plt.show()"
      ],
      "execution_count": 517,
      "outputs": [
        {
          "output_type": "display_data",
          "data": {
            "image/png": "[encoded data removed]",
            "text/plain": [
              "<Figure size 432x288 with 2 Axes>"
            ]
          },
          "metadata": {
            "tags": [],
            "needs_background": "light"
          }
        }
      ]
    },
    {
      "cell_type": "code",
      "metadata": {
        "colab": {
          "base_uri": "https://localhost:8080/",
          "height": 279
        },
        "id": "jlr8iZYdVeSE",
        "outputId": "602f79ff-cd36-476d-a0e7-a855e0d6f2b7"
      },
      "source": [
        "plot_confusion_matrix(model_rf1, X_test, y_test, normalize = 'true')\n",
        "plt.show()"
      ],
      "execution_count": 518,
      "outputs": [
        {
          "output_type": "display_data",
          "data": {
            "image/png": "[encoded data removed]",
            "text/plain": [
              "<Figure size 432x288 with 2 Axes>"
            ]
          },
          "metadata": {
            "tags": [],
            "needs_background": "light"
          }
        }
      ]
    },
    {
      "cell_type": "code",
      "metadata": {
        "colab": {
          "base_uri": "https://localhost:8080/",
          "height": 279
        },
        "id": "PPOxZ8RvVl9M",
        "outputId": "52c02c15-afd0-4557-ea62-117e46ebb675"
      },
      "source": [
        "plot_confusion_matrix(model_rf1, X_test, y_test, normalize = 'pred') \n",
        "plt.show()"
      ],
      "execution_count": 519,
      "outputs": [
        {
          "output_type": "display_data",
          "data": {
            "image/png": "[encoded data removed]",
            "text/plain": [
              "<Figure size 432x288 with 2 Axes>"
            ]
          },
          "metadata": {
            "tags": [],
            "needs_background": "light"
          }
        }
      ]
    },
    {
      "cell_type": "code",
      "metadata": {
        "colab": {
          "base_uri": "https://localhost:8080/",
          "height": 296
        },
        "id": "1uv1UVMaVvzC",
        "outputId": "fea3ee48-23ca-4650-b45a-2e51bf7b8ce0"
      },
      "source": [
        "plot_roc_curve(model_rf1, X_test, y_test)"
      ],
      "execution_count": 520,
      "outputs": [
        {
          "output_type": "execute_result",
          "data": {
            "text/plain": [
              "<sklearn.metrics._plot.roc_curve.RocCurveDisplay at 0x7f049fc6c6d0>"
            ]
          },
          "metadata": {
            "tags": []
          },
          "execution_count": 520
        },
        {
          "output_type": "display_data",
          "data": {
            "image/png": "[encoded data removed]",
            "text/plain": [
              "<Figure size 432x288 with 1 Axes>"
            ]
          },
          "metadata": {
            "tags": [],
            "needs_background": "light"
          }
        }
      ]
    }
  ]
}